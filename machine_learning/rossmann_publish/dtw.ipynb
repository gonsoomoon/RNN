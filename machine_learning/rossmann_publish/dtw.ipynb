{
 "cells": [
  {
   "cell_type": "code",
   "execution_count": 40,
   "metadata": {
    "collapsed": true
   },
   "outputs": [],
   "source": [
    "from dtw import dtw\n",
    "import pandas_datareader.data as web\n",
    "import numpy as np\n",
    "from numpy.linalg import norm\n",
    "from numpy import array\n",
    "import matplotlib.pyplot as plt\n",
    "%matplotlib inline\n",
    "import datetime\n",
    "import seaborn as sns"
   ]
  },
  {
   "cell_type": "code",
   "execution_count": 41,
   "metadata": {
    "collapsed": false
   },
   "outputs": [],
   "source": [
    "from cluster_feature import ClusterFeature"
   ]
  },
  {
   "cell_type": "code",
   "execution_count": 42,
   "metadata": {
    "collapsed": false
   },
   "outputs": [
    {
     "name": "stdout",
     "output_type": "stream",
     "text": [
      "feature shape: (1115, 13)\n",
      "tip of a feature:\n",
      "    std_idx           m1           m2           m3           m4           m5  \\\n",
      "0        0  4703.166667  4414.192308  5067.607843  6248.857143  4754.722222   \n",
      "1        1  5228.948718  5374.384615  5790.039216  6417.163265  5345.958333   \n",
      "2        2  7580.894737  7212.884615  7917.640000  9427.333333  7389.555556   \n",
      "\n",
      "            m6           m7           m8           m9          m10  \\\n",
      "0  4942.246753  4711.726027  4805.070423  4538.726027  4591.382716   \n",
      "1  5489.909091  5602.301370  5786.250000  5772.960000  5640.592593   \n",
      "2  7781.090909  8001.287671  8435.718310  8038.506849  9327.894737   \n",
      "\n",
      "           m11          m12  \n",
      "0  4326.867925  4220.882353  \n",
      "1  5210.245283  5281.764706  \n",
      "2  7837.115385  7171.840000  \n"
     ]
    }
   ],
   "source": [
    "PICKLE_FILE_NAME = './data/feature_train_data.pickle'\n",
    "CF = ClusterFeature(PICKLE_FILE_NAME)\n",
    "print('feature shape: {}'.format(CF.df_f_list.shape))\n",
    "print('tip of a feature:\\n {}'.format(CF.df_f_list.head(3)))\n"
   ]
  },
  {
   "cell_type": "code",
   "execution_count": 43,
   "metadata": {
    "collapsed": false
   },
   "outputs": [],
   "source": [
    "x_df = CF.df_f_list.iloc[0,1:]\n",
    "x = np.array(x_df).reshape(-1,1)\n",
    "y_df = CF.df_f_list.iloc[1,1:] \n",
    "y = np.array(y_df).reshape(-1,1)"
   ]
  },
  {
   "cell_type": "code",
   "execution_count": 44,
   "metadata": {
    "collapsed": false
   },
   "outputs": [
    {
     "name": "stdout",
     "output_type": "stream",
     "text": [
      "(12, 1) (12, 1)\n"
     ]
    }
   ],
   "source": [
    "print(x.shape, y.shape)"
   ]
  },
  {
   "cell_type": "code",
   "execution_count": 45,
   "metadata": {
    "collapsed": false
   },
   "outputs": [],
   "source": [
    "dist, cost, acc, path = dtw(x,y, dist=lambda x, y: norm(x-y, ord=1))"
   ]
  },
  {
   "cell_type": "code",
   "execution_count": 51,
   "metadata": {
    "collapsed": false
   },
   "outputs": [
    {
     "name": "stdout",
     "output_type": "stream",
     "text": [
      "dist:  396.36650886197293\n",
      "cost:  [[ 525.78205128  671.21794872 1086.87254902 1713.99659864  642.79166667\n",
      "   786.74242424  899.1347032  1083.08333333 1069.79333333  937.42592593\n",
      "   507.07861635  578.59803922]\n",
      " [ 814.75641026  960.19230769 1375.84690799 2002.97095761  931.76602564\n",
      "  1075.71678322 1188.10906217 1372.05769231 1358.76769231 1226.4002849\n",
      "   796.05297533  867.57239819]\n",
      " [ 161.34087481  306.77677225  722.43137255 1349.55542217  278.3504902\n",
      "   422.30124777  534.69352673  718.64215686  705.35215686  572.98474946\n",
      "   142.63743988  214.15686275]\n",
      " [1019.90842491  874.47252747  458.81792717  168.30612245  902.89880952\n",
      "   758.94805195  646.55577299  462.60714286  475.89714286  608.26455026\n",
      "  1038.61185984  967.09243697]\n",
      " [ 474.22649573  619.66239316 1035.31699346 1662.44104308  591.23611111\n",
      "   735.18686869  847.57914764 1031.52777778 1018.23777778  885.87037037\n",
      "   455.5230608   527.04248366]\n",
      " [ 286.7019647   432.13786214  847.79246244 1474.91651206  403.71158009\n",
      "   547.66233766  660.05461662  844.00324675  830.71324675  698.34583935\n",
      "   267.99852977  339.51795264]\n",
      " [ 517.22269055  662.65858799 1078.31318829 1705.43723791  634.23230594\n",
      "   778.18306351  890.57534247 1074.5239726  1061.2339726   928.8665652\n",
      "   498.51925562  570.03867849]\n",
      " [ 423.87829541  569.31419285  984.96879315 1612.09284277  540.8879108\n",
      "   684.83866837  797.23094733  981.17957746  967.88957746  835.52217006\n",
      "   405.17486048  476.69428335]\n",
      " [ 690.22269055  835.65858799 1251.31318829 1878.43723791  807.23230594\n",
      "   951.18306351 1063.57534247 1247.5239726  1234.2339726  1101.8665652\n",
      "   671.51925562  743.03867849]\n",
      " [ 637.5660019   783.00189934 1198.65649964 1825.78054926  754.57561728\n",
      "   898.52637486 1010.91865381 1194.86728395 1181.57728395 1049.20987654\n",
      "   618.86256697  690.38198983]\n",
      " [ 902.08079342 1047.51669086 1463.17129116 2090.29534078 1019.09040881\n",
      "  1163.04116638 1275.43344533 1459.38207547 1446.09207547 1313.72466806\n",
      "   883.37735849  954.89678135]\n",
      " [1008.06636501 1153.50226244 1569.15686275 2196.28091236 1125.07598039\n",
      "  1269.02673797 1381.41901692 1565.36764706 1552.07764706 1419.71023965\n",
      "   989.36293008 1060.88235294]]\n",
      "acc:  [[  525.78205128  1197.          2283.87254902  3997.86914766\n",
      "   4640.66081433  5427.40323857  6326.53794176  7409.6212751\n",
      "   8479.41460843  9416.84053436  9923.91915071 10502.51718992]\n",
      " [ 1340.53846154  1485.97435897  2572.84690799  4286.84350663\n",
      "   4929.6351733   5716.37759754  6615.51230074  7698.59563407\n",
      "   8768.38896741  9705.81489333 10212.89350968 10791.4915489 ]\n",
      " [ 1501.87933635  1647.31523379  2208.40573152  3557.96115369\n",
      "   3836.31164389  4258.61289166  4793.30641839  5511.94857525\n",
      "   6217.30073211  6790.28548157  6932.92292145  7147.07978419]\n",
      " [ 2521.78776126  2376.35186382  2106.13316096  2274.43928341\n",
      "   3177.33809293  3936.28614488  4582.84191787  5045.44906073\n",
      "   5521.34620359  6129.61075385  7168.22261369  7900.01535842]\n",
      " [ 2996.01425698  2996.01425698  3141.45015442  3768.57420404\n",
      "   2865.67539452  3600.8622632   4448.44141084  5479.96918862\n",
      "   6063.68683851  6407.21657396  6585.13381465  7112.17629831]\n",
      " [ 3282.71622169  3428.15211912  3843.80671942  4616.36666648\n",
      "   3269.3869746   3413.33773218  4073.3923488   4917.39559555\n",
      "   5748.1088423   6446.45468165  6675.21510373  6924.65176728]\n",
      " [ 3799.93891224  3945.37480967  4506.46530741  5549.24395733\n",
      "   3903.61928054  4047.57003812  4303.91307464  5147.9163214\n",
      "   5978.62956815  6676.9754075   6944.97393727  7245.25378221]\n",
      " [ 4223.81720765  4369.25310509  4930.34360283  6118.55815018\n",
      "   4444.50719134  4588.45794891  4844.80098544  5285.09265211\n",
      "   6115.80589886  6814.15173821  7082.15026798  7421.66822062]\n",
      " [ 4914.0398982   5059.47579564  5620.56629338  6808.78084073\n",
      "   5251.73949727  5395.69025485  5652.03329138  6092.32495805\n",
      "   6519.32662471  7217.67246406  7485.67099383  7825.18894647]\n",
      " [ 5551.6059001   5697.04179754  6258.13229528  7446.34684263\n",
      "   6006.31511456  6150.26587213  6406.60890866  6846.90057533\n",
      "   7273.902242    7568.53650126  7836.53503103  8176.05298366]\n",
      " [ 6453.68669352  6599.12259096  7160.2130887   8348.42763605\n",
      "   7025.40552336  7169.35628094  7425.69931747  7865.99098413\n",
      "   8292.9926508   8587.62691006  8451.91385975  8791.43181238]\n",
      " [ 7461.75305853  7607.18895597  8168.2794537   9356.49400106\n",
      "   8150.48150375  8294.43226133  8550.77529786  8991.06696453\n",
      "   9418.06863119  9712.70289045  9441.27678982  9512.79621269]]\n",
      "path:  (array([ 0,  1,  2,  3,  3,  4,  5,  6,  7,  8,  9, 10, 11]), array([ 0,  0,  1,  2,  3,  4,  5,  6,  7,  8,  9, 10, 11]))\n"
     ]
    }
   ],
   "source": [
    "print(\"dist: \", dist)\n",
    "print(\"cost: \", cost)\n",
    "print(\"acc: \", acc)\n",
    "print(\"path: \", path)"
   ]
  },
  {
   "cell_type": "code",
   "execution_count": 46,
   "metadata": {
    "collapsed": false
   },
   "outputs": [
    {
     "data": {
      "image/png": "[encoded data removed]",
      "text/plain": [
       "<matplotlib.figure.Figure at 0x132b4ab70>"
      ]
     },
     "metadata": {},
     "output_type": "display_data"
    },
    {
     "data": {
      "text/plain": [
       "<matplotlib.figure.Figure at 0x120540cc0>"
      ]
     },
     "metadata": {},
     "output_type": "display_data"
    }
   ],
   "source": [
    "# Set Seaborn style for plots:\n",
    "sns.set_style(\"whitegrid\", {'font_scale':0.5,\n",
    "                           'font.scale':0.5,\n",
    "                           'xtick.color':'#A5A5A5',\n",
    "                           'ytick.color':'#A5A5A5',\n",
    "                           'axes.linewidth': 0.2,\n",
    "                           'axes.facecolor': '#AEAEAE',\n",
    "                           'text.color': '#424242',\n",
    "                           'legend.frameon': True})\n",
    "\n",
    "plt.title('DTW: %s vs. %s' % (x_tick, y_tick))# The 2 symbols being compared.\n",
    "plt.suptitle(\"%s - %s\" %(start.strftime(\"%Y/%m/%d\"), end.strftime(\"%Y/%m/%d\"))) # Show start/end dates.\n",
    "# acc.T is the accumulated cost matrix returned from the dtw( ) function.\n",
    "# origin is which part of the chart to start the plot.\n",
    "# cmap is shorthand for color map. The 'prism' palette is particularly useful for visualizing DTW outputs.\n",
    "plt.imshow(acc.T, origin='lower', cmap='prism', interpolation='nearest')\n",
    "plt.plot(path[0], path[1], 'w')\n",
    "plt.xlim((-0.5, acc.shape[0]-0.5))\n",
    "plt.ylim((-0.5, acc.shape[1]-0.5))\n",
    "\n",
    "plt.show()\n",
    "plt.clf() # Clear the current figure in-case we want to generate or try a different plot."
   ]
  },
  {
   "cell_type": "code",
   "execution_count": 49,
   "metadata": {
    "collapsed": false
   },
   "outputs": [
    {
     "data": {
      "text/plain": [
       "<matplotlib.axes._subplots.AxesSubplot at 0x11d0d86a0>"
      ]
     },
     "execution_count": 49,
     "metadata": {},
     "output_type": "execute_result"
    },
    {
     "data": {
      "image/png": "[encoded data removed]",
      "text/plain": [
       "<matplotlib.figure.Figure at 0x11d1a4eb8>"
      ]
     },
     "metadata": {},
     "output_type": "display_data"
    }
   ],
   "source": [
    "x_df.plot()\n",
    "y_df.plot()"
   ]
  },
  {
   "cell_type": "code",
   "execution_count": null,
   "metadata": {
    "collapsed": true
   },
   "outputs": [],
   "source": []
  }
 ],
 "metadata": {
  "kernelspec": {
   "display_name": "Python 3",
   "language": "python",
   "name": "python3"
  },
  "language_info": {
   "codemirror_mode": {
    "name": "ipython",
    "version": 3
   },
   "file_extension": ".py",
   "mimetype": "text/x-python",
   "name": "python",
   "nbconvert_exporter": "python",
   "pygments_lexer": "ipython3",
   "version": "3.6.0"
  }
 },
 "nbformat": 4,
 "nbformat_minor": 2
}
