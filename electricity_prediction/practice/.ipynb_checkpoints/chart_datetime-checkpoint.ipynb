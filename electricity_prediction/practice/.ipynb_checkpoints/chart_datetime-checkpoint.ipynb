{
 "cells": [
  {
   "cell_type": "code",
   "execution_count": 31,
   "metadata": {
    "collapsed": false
   },
   "outputs": [
    {
     "name": "stdout",
     "output_type": "stream",
     "text": [
      "rule:  <class 'matplotlib.dates.rrulewrapper'>\n",
      "rule:  <matplotlib.dates.rrulewrapper object at 0x112c6ac88>\n"
     ]
    }
   ],
   "source": [
    "# Ref: \n",
    "#    date_demo_rrule.py from https://matplotlib.org/examples/pylab_examples/date_demo_rrule.html\n",
    "#    https://matplotlib.org/1.5.1/examples/pylab_examples/date_demo1.html\n",
    "#    Advanced Time Series Plots in Python\n",
    "#     http://www.blackarbs.com/blog/advanced-time-series-plots-in-python/1/6/2017\n",
    "# install mpl_finance: \n",
    "#  pip install https://github.com/matplotlib/mpl_finance/archive/master.zip\n",
    "import matplotlib.pyplot as plt\n",
    "from matplotlib.dates import YEARLY, DateFormatter, rrulewrapper,RRuleLocator, drange\n",
    "import numpy as np\n",
    "import datetime\n",
    "\n",
    "# tick every 5th easter\n",
    "rule = rrulewrapper(YEARLY, byeaster=1, interval=1)\n",
    "print(\"rule: \" , type(rule))\n",
    "print(\"rule: \" , rule)\n",
    "loc = RRuleLocator(rule)\n",
    "formatter = DateFormatter('%m/%d/%y')\n"
   ]
  },
  {
   "cell_type": "code",
   "execution_count": 32,
   "metadata": {
    "collapsed": false
   },
   "outputs": [
    {
     "name": "stdout",
     "output_type": "stream",
     "text": [
      "data1:  2018-03-01\n",
      "data1:  2018-03-01\n",
      "delta:  31 days, 0:00:00\n",
      "dates:  [736754.]\n"
     ]
    }
   ],
   "source": [
    "date1 = datetime.date(2018, 3, 1)\n",
    "date2 = datetime.date(2018, 3, 31)\n",
    "print(\"data1: \", date1)\n",
    "\n",
    "delta = datetime.timedelta(days = 31)\n",
    "print(\"data1: \", date1)\n",
    "print(\"delta: \", delta)\n",
    "dates = drange(date1, date2, delta)\n",
    "print(\"dates: \", dates)"
   ]
  },
  {
   "cell_type": "code",
   "execution_count": 33,
   "metadata": {
    "collapsed": false
   },
   "outputs": [
    {
     "name": "stdout",
     "output_type": "stream",
     "text": [
      "s:  [0.13341925]\n"
     ]
    }
   ],
   "source": [
    "s = np.random.rand(len(dates))\n",
    "print(\"s: \", s)"
   ]
  },
  {
   "cell_type": "code",
   "execution_count": 34,
   "metadata": {
    "collapsed": false,
    "scrolled": true
   },
   "outputs": [
    {
     "data": {
      "image/png": "[encoded data removed]",
      "text/plain": [
       "<matplotlib.figure.Figure at 0x112b23828>"
      ]
     },
     "metadata": {},
     "output_type": "display_data"
    }
   ],
   "source": [
    "fig, ax = plt.subplots()\n",
    "plt.plot_date(dates, s)\n",
    "ax.xaxis.set_major_locator(loc)\n",
    "ax.xaxis.set_major_formatter(formatter)\n",
    "labels = ax.get_xticklabels()\n",
    "plt.setp(labels, rotation=30, fontsize=10)\n",
    "plt.show()"
   ]
  },
  {
   "cell_type": "code",
   "execution_count": 35,
   "metadata": {
    "collapsed": false
   },
   "outputs": [
    {
     "data": {
      "image/png": "[encoded data removed]",
      "text/plain": [
       "<matplotlib.figure.Figure at 0x112d59da0>"
      ]
     },
     "metadata": {},
     "output_type": "display_data"
    }
   ],
   "source": [
    "import datetime\n",
    "import random\n",
    "import matplotlib.pyplot as plt\n",
    "\n",
    "# make up some data\n",
    "x = [datetime.datetime.now() + datetime.timedelta(hours=i) for i in range(12)]\n",
    "y = [i+random.gauss(0,1) for i,_ in enumerate(x)]\n",
    "\n",
    "# plot\n",
    "plt.plot(x,y)\n",
    "# beautify the x-labels\n",
    "plt.gcf().autofmt_xdate()\n",
    "\n",
    "plt.show()"
   ]
  },
  {
   "cell_type": "code",
   "execution_count": 36,
   "metadata": {
    "collapsed": false
   },
   "outputs": [
    {
     "name": "stdout",
     "output_type": "stream",
     "text": [
      "[datetime.datetime(2018, 3, 31, 12, 7, 29, 530655)]\n"
     ]
    }
   ],
   "source": [
    "x = [datetime.datetime.now()]\n",
    "print(x)"
   ]
  },
  {
   "cell_type": "code",
   "execution_count": 41,
   "metadata": {
    "collapsed": false
   },
   "outputs": [
    {
     "name": "stdout",
     "output_type": "stream",
     "text": [
      "x:  [datetime.timedelta(0), datetime.timedelta(0, 3600), datetime.timedelta(0, 7200), datetime.timedelta(0, 10800), datetime.timedelta(0, 14400), datetime.timedelta(0, 18000), datetime.timedelta(0, 21600), datetime.timedelta(0, 25200), datetime.timedelta(0, 28800), datetime.timedelta(0, 32400), datetime.timedelta(0, 36000), datetime.timedelta(0, 39600)]\n"
     ]
    }
   ],
   "source": [
    "x = [datetime.datetime.now() + datetime.timedelta(hours=i) for i in range(12)]\n",
    "#x1 = [datetime.timedelta(hours = i) for i in range(12)]\n",
    "print(\"x: \", x1)"
   ]
  },
  {
   "cell_type": "code",
   "execution_count": null,
   "metadata": {
    "collapsed": true
   },
   "outputs": [],
   "source": []
  }
 ],
 "metadata": {
  "kernelspec": {
   "display_name": "Python 3",
   "language": "python",
   "name": "python3"
  },
  "language_info": {
   "codemirror_mode": {
    "name": "ipython",
    "version": 3
   },
   "file_extension": ".py",
   "mimetype": "text/x-python",
   "name": "python",
   "nbconvert_exporter": "python",
   "pygments_lexer": "ipython3",
   "version": "3.6.0"
  }
 },
 "nbformat": 4,
 "nbformat_minor": 2
}
