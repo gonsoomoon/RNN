{
 "cells": [
  {
   "cell_type": "markdown",
   "metadata": {},
   "source": [
    "<h1>Make a time-series feature set</h1><br>"
   ]
  },
  {
   "cell_type": "code",
   "execution_count": 2,
   "metadata": {
    "collapsed": true
   },
   "outputs": [],
   "source": [
    "import pandas as pd"
   ]
  },
  {
   "cell_type": "code",
   "execution_count": 7,
   "metadata": {
    "collapsed": false
   },
   "outputs": [
    {
     "data": {
      "text/html": [
       "<div>\n",
       "<table border=\"1\" class=\"dataframe\">\n",
       "  <thead>\n",
       "    <tr style=\"text-align: right;\">\n",
       "      <th></th>\n",
       "      <th>Fremont Bridge West Sidewalk</th>\n",
       "      <th>Fremont Bridge East Sidewalk</th>\n",
       "    </tr>\n",
       "    <tr>\n",
       "      <th>Date</th>\n",
       "      <th></th>\n",
       "      <th></th>\n",
       "    </tr>\n",
       "  </thead>\n",
       "  <tbody>\n",
       "    <tr>\n",
       "      <th>2012-10-03 00:00:00</th>\n",
       "      <td>4.0</td>\n",
       "      <td>9.0</td>\n",
       "    </tr>\n",
       "    <tr>\n",
       "      <th>2012-10-03 01:00:00</th>\n",
       "      <td>4.0</td>\n",
       "      <td>6.0</td>\n",
       "    </tr>\n",
       "    <tr>\n",
       "      <th>2012-10-03 02:00:00</th>\n",
       "      <td>1.0</td>\n",
       "      <td>1.0</td>\n",
       "    </tr>\n",
       "    <tr>\n",
       "      <th>2012-10-03 03:00:00</th>\n",
       "      <td>2.0</td>\n",
       "      <td>3.0</td>\n",
       "    </tr>\n",
       "    <tr>\n",
       "      <th>2012-10-03 04:00:00</th>\n",
       "      <td>6.0</td>\n",
       "      <td>1.0</td>\n",
       "    </tr>\n",
       "  </tbody>\n",
       "</table>\n",
       "</div>"
      ],
      "text/plain": [
       "                     Fremont Bridge West Sidewalk  \\\n",
       "Date                                                \n",
       "2012-10-03 00:00:00                           4.0   \n",
       "2012-10-03 01:00:00                           4.0   \n",
       "2012-10-03 02:00:00                           1.0   \n",
       "2012-10-03 03:00:00                           2.0   \n",
       "2012-10-03 04:00:00                           6.0   \n",
       "\n",
       "                     Fremont Bridge East Sidewalk  \n",
       "Date                                               \n",
       "2012-10-03 00:00:00                           9.0  \n",
       "2012-10-03 01:00:00                           6.0  \n",
       "2012-10-03 02:00:00                           1.0  \n",
       "2012-10-03 03:00:00                           3.0  \n",
       "2012-10-03 04:00:00                           1.0  "
      ]
     },
     "execution_count": 7,
     "metadata": {},
     "output_type": "execute_result"
    }
   ],
   "source": [
    "df_raw = pd.read_csv(\"../input/FremontBridge.csv\", index_col='Date', \n",
    "                   parse_dates=True)\n",
    "df_raw.head()"
   ]
  },
  {
   "cell_type": "code",
   "execution_count": 35,
   "metadata": {
    "collapsed": false
   },
   "outputs": [
    {
     "name": "stdout",
     "output_type": "stream",
     "text": [
      "Date\n",
      "2012-10-03 00:00:00    4.0\n",
      "2012-10-03 01:00:00    4.0\n",
      "2012-10-03 02:00:00    1.0\n",
      "2012-10-03 03:00:00    2.0\n",
      "2012-10-03 04:00:00    6.0\n",
      "Name: west, dtype: float64\n",
      "Date\n",
      "2018-05-31 19:00:00    84.0\n",
      "2018-05-31 20:00:00    27.0\n",
      "2018-05-31 21:00:00    36.0\n",
      "2018-05-31 22:00:00    21.0\n",
      "2018-05-31 23:00:00    14.0\n",
      "Name: west, dtype: float64\n"
     ]
    }
   ],
   "source": [
    "df_raw.columns = ['west', 'east']\n",
    "# Only select west column\n",
    "df_w = df_raw['west']\n",
    "print(df_w.head())\n",
    "print(df_w.tail())\n"
   ]
  },
  {
   "cell_type": "code",
   "execution_count": 49,
   "metadata": {
    "collapsed": false,
    "scrolled": true
   },
   "outputs": [
    {
     "name": "stdout",
     "output_type": "stream",
     "text": [
      "Date\n",
      "2012-10-03 00:00:00    4.0\n",
      "2012-10-03 01:00:00    4.0\n",
      "2012-10-03 02:00:00    1.0\n",
      "2012-10-03 03:00:00    2.0\n",
      "2012-10-03 04:00:00    6.0\n",
      "Name: west, dtype: float64   [2 2 2]\n",
      "Date\n",
      "2018-05-31 19:00:00    84.0\n",
      "2018-05-31 20:00:00    27.0\n",
      "2018-05-31 21:00:00    36.0\n",
      "2018-05-31 22:00:00    21.0\n",
      "2018-05-31 23:00:00    14.0\n",
      "Name: west, dtype: float64   [3 3 3]\n"
     ]
    }
   ],
   "source": [
    "print(df_w.head(), \" \", df_w.head(3).index.weekday) \n",
    "print(df_w.tail(), \" \", df_w.tail(3).index.weekday)\n",
    "# Sunday=6, Monday=0, Tue=1, Wed=2, Thr = 3, Fri = 4, Sat = 5"
   ]
  },
  {
   "cell_type": "code",
   "execution_count": 50,
   "metadata": {
    "collapsed": false
   },
   "outputs": [],
   "source": [
    "# In order to make a multiple of 7 from Sunday to Saturday\n",
    "# Get the first weekdays before Sunday and the last part after Saturday\n",
    "from datetime import date\n",
    "start_date = date(2012,10,7) # Sunday - 6\n",
    "end_date = date(2018,5,26) # Sat - 5"
   ]
  },
  {
   "cell_type": "code",
   "execution_count": 51,
   "metadata": {
    "collapsed": false
   },
   "outputs": [
    {
     "name": "stdout",
     "output_type": "stream",
     "text": [
      "Date\n",
      "2012-10-07 00:00:00     6.0\n",
      "2012-10-07 01:00:00    12.0\n",
      "2012-10-07 02:00:00     2.0\n",
      "2012-10-07 03:00:00     4.0\n",
      "2012-10-07 04:00:00     1.0\n",
      "Name: west, dtype: float64   [6 6 6 6 6]\n",
      "Date\n",
      "2018-05-26 19:00:00    39.0\n",
      "2018-05-26 20:00:00    21.0\n",
      "2018-05-26 21:00:00    11.0\n",
      "2018-05-26 22:00:00    20.0\n",
      "2018-05-26 23:00:00    13.0\n",
      "Name: west, dtype: float64   [5 5 5 5 5]\n"
     ]
    }
   ],
   "source": [
    "# Make a data set of a multiple of 7\n",
    "df_wk = df_w[df_w.index.date >= start_date]\n",
    "print(df_wk.head(5), \" \", df_wk.head(5).index.weekday)\n",
    "df_wk = df_wk[df_wk.index.date <= end_date]\n",
    "print(df_wk.tail(5), \" \", df_wk.tail(5).index.weekday)"
   ]
  },
  {
   "cell_type": "code",
   "execution_count": 56,
   "metadata": {
    "collapsed": false
   },
   "outputs": [
    {
     "name": "stdout",
     "output_type": "stream",
     "text": [
      "2012-10-07 00:00:00\n",
      "2018-05-26 23:00:00\n"
     ]
    }
   ],
   "source": [
    "# Get the last index value\n",
    "end_index = df_wk.shape[0] - 1\n",
    "print(df_wk.index[0])\n",
    "print(df_wk.index[end_index])"
   ]
  },
  {
   "cell_type": "code",
   "execution_count": 59,
   "metadata": {
    "collapsed": false
   },
   "outputs": [],
   "source": [
    "# get a range of start and end\n",
    "all_times = pd.date_range(df_wk.index[0],df_wk.index[end_index], freq = \"H\").floor('H')"
   ]
  },
  {
   "cell_type": "code",
   "execution_count": 61,
   "metadata": {
    "collapsed": false
   },
   "outputs": [
    {
     "name": "stdout",
     "output_type": "stream",
     "text": [
      "2012-10-07 00:00:00     6.0\n",
      "2012-10-07 01:00:00    12.0\n",
      "2012-10-07 02:00:00     2.0\n",
      "2012-10-07 03:00:00     4.0\n",
      "2012-10-07 04:00:00     1.0\n",
      "Name: west, dtype: float64\n",
      "2018-05-26 19:00:00    39.0\n",
      "2018-05-26 20:00:00    21.0\n",
      "2018-05-26 21:00:00    11.0\n",
      "2018-05-26 22:00:00    20.0\n",
      "2018-05-26 23:00:00    13.0\n",
      "Name: west, dtype: float64\n"
     ]
    }
   ],
   "source": [
    "# fill 0 for the new records\n",
    "df_all = df_wk.reindex(all_times, fill_value=0)\n",
    "print(df_all.head())\n",
    "print(df_all.tail())"
   ]
  },
  {
   "cell_type": "code",
   "execution_count": 64,
   "metadata": {
    "collapsed": false
   },
   "outputs": [
    {
     "name": "stdout",
     "output_type": "stream",
     "text": [
      "hours:  49392 \t days:  2058.0 \t wk:  294.0 years:  5.653846153846154\n"
     ]
    }
   ],
   "source": [
    "print(\"hours: \", df_all.shape[0], \"\\t\", \n",
    "      \"days: \", df_all.shape[0] / 24, \"\\t\",\n",
    "      \"wk: \", df_all.shape[0] /24 / 7,\n",
    "      \"years: \", df_all.shape[0] /24 / 7 / 52)"
   ]
  },
  {
   "cell_type": "code",
   "execution_count": 73,
   "metadata": {
    "collapsed": false
   },
   "outputs": [
    {
     "name": "stdout",
     "output_type": "stream",
     "text": [
      "Date\n",
      "2012-10-07 00:00:00     6.0\n",
      "2012-10-07 01:00:00    12.0\n",
      "2012-10-07 02:00:00     2.0\n",
      "2012-10-07 03:00:00     4.0\n",
      "2012-10-07 04:00:00     1.0\n",
      "Name: west, dtype: float64 \t [6 6 6 6 6]\n",
      "Date\n",
      "2014-10-04 19:00:00    33.0\n",
      "2014-10-04 20:00:00    18.0\n",
      "2014-10-04 21:00:00    12.0\n",
      "2014-10-04 22:00:00    12.0\n",
      "2014-10-04 23:00:00    13.0\n",
      "Name: west, dtype: float64 \t [5 5 5 5 5]\n"
     ]
    }
   ],
   "source": [
    "# Get data for 2 years\n",
    "df_2y = df_wk[0: 24 * 7 * 52 * 2] # 2 years\n",
    "print(df_2y.head(), \"\\t\", df_2y.head().index.weekday) # 6: Sunday\n",
    "print(df_2y.tail(), \"\\t\", df_2y.tail().index.weekday) # 5 : Sat"
   ]
  },
  {
   "cell_type": "code",
   "execution_count": 74,
   "metadata": {
    "collapsed": false
   },
   "outputs": [
    {
     "name": "stdout",
     "output_type": "stream",
     "text": [
      "Date\n",
      "2012-10-07 00:00:00     6.0\n",
      "2012-10-07 01:00:00    12.0\n",
      "2012-10-07 02:00:00     2.0\n",
      "2012-10-07 03:00:00     4.0\n",
      "2012-10-07 04:00:00     1.0\n",
      "Name: west, dtype: float64 \t [6 6 6 6 6]\n",
      "Date\n",
      "2012-11-10 19:00:00    13.0\n",
      "2012-11-10 20:00:00    10.0\n",
      "2012-11-10 21:00:00     7.0\n",
      "2012-11-10 22:00:00     5.0\n",
      "2012-11-10 23:00:00     6.0\n",
      "Name: west, dtype: float64 \t [5 5 5 5 5]\n"
     ]
    }
   ],
   "source": [
    "# Get data for 5 weeks\n",
    "df_5w = df_wk[0: 24 * 7 * 5] # 5 weeks\n",
    "print(df_5w.head(), \"\\t\", df_5w.head().index.weekday) # 6: Sunday\n",
    "print(df_5w.tail(), \"\\t\", df_5w.tail().index.weekday) # 5 : Sat"
   ]
  },
  {
   "cell_type": "code",
   "execution_count": 77,
   "metadata": {
    "collapsed": false
   },
   "outputs": [],
   "source": [
    "%matplotlib inline\n",
    "import matplotlib.pyplot as plt\n",
    "import seaborn;seaborn.set()"
   ]
  },
  {
   "cell_type": "code",
   "execution_count": 78,
   "metadata": {
    "collapsed": false
   },
   "outputs": [
    {
     "data": {
      "text/plain": [
       "<matplotlib.text.Text at 0x116245320>"
      ]
     },
     "execution_count": 78,
     "metadata": {},
     "output_type": "execute_result"
    },
    {
     "data": {
      "image/png": "[encoded data removed]",
      "text/plain": [
       "<matplotlib.figure.Figure at 0x11615d128>"
      ]
     },
     "metadata": {},
     "output_type": "display_data"
    }
   ],
   "source": [
    "df_5w.plot()\n",
    "plt.ylabel('Hourly Bicycle Count')"
   ]
  },
  {
   "cell_type": "code",
   "execution_count": 113,
   "metadata": {
    "collapsed": false
   },
   "outputs": [],
   "source": [
    "from pandas import DataFrame\n",
    "from pandas import concat\n",
    "def series_to_supervised(data, n_in = 1, n_out = 1, dropnan=True):\n",
    "    \"\"\"\n",
    "\tFrame a time series as a supervised learning dataset.\n",
    "\tArguments:\n",
    "\t\tdata: Sequence of observations as a list or NumPy array.\n",
    "\t\tn_in: Number of lag observations as input (X).\n",
    "\t\tn_out: Number of observations as output (y).\n",
    "\t\tdropnan: Boolean whether or not to drop rows with NaN values.\n",
    "\tReturns:\n",
    "\t\tPandas DataFrame of series framed for supervised learning.\n",
    "    \"\"\"\n",
    "    n_vars = 1 if type(data) is list else data.shape[1]\n",
    "    df = DataFrame(data)\n",
    "    cols, names = list(), list()\n",
    "    # input sequence (t-n, ... , t-1)\n",
    "    for i in range(n_in, 0, -1):\n",
    "        cols.append(df.shift(i))\n",
    "        names += [('var%d(t-%d)' % (j+1, i)) for j in range(n_vars)]\n",
    "    # forecast sequence (t, t+1, ...t+n)\n",
    "    for i in range(0, n_out):\n",
    "        cols.append(df.shift(-i))\n",
    "        if i == 0:\n",
    "            names += [('var%d(t)' % (j+1)) for j in range(n_vars)]\n",
    "        else:\n",
    "            names += [('var%d(t+%d)' % (j+1, i)) for j in range(n_vars)]\n",
    "    # put it all together\n",
    "    agg = concat(cols, axis = 1)\n",
    "    agg.columns = names\n",
    "    # drop rows with NaN values\n",
    "    if dropnan:\n",
    "        agg.dropna(inplace = True)\n",
    "    return agg"
   ]
  },
  {
   "cell_type": "code",
   "execution_count": 131,
   "metadata": {
    "collapsed": false
   },
   "outputs": [
    {
     "data": {
      "text/plain": [
       "Date\n",
       "2012-10-07 00:00:00     6.0\n",
       "2012-10-07 01:00:00    12.0\n",
       "2012-10-07 02:00:00     2.0\n",
       "2012-10-07 03:00:00     4.0\n",
       "2012-10-07 04:00:00     1.0\n",
       "Name: west, dtype: float64"
      ]
     },
     "execution_count": 131,
     "metadata": {},
     "output_type": "execute_result"
    }
   ],
   "source": [
    "df_5w.head()"
   ]
  },
  {
   "cell_type": "code",
   "execution_count": 126,
   "metadata": {
    "collapsed": false
   },
   "outputs": [
    {
     "name": "stdout",
     "output_type": "stream",
     "text": [
      "(840,)\n"
     ]
    }
   ],
   "source": [
    "print(df_5w.shape) # 840 : 24 * 7 * 5\n",
    "list_val = list(df_5w.values)\n",
    "df_fs = series_to_supervised(list_val,24,24) # arg: data, input, output\n",
    "type(df_fs)\n",
    "# 793 rows\n",
    "# nrows - # of dimensions + 1\n",
    "# 840 = (24 + 24) + 1 = 793\n"
   ]
  },
  {
   "cell_type": "code",
   "execution_count": null,
   "metadata": {
    "collapsed": true
   },
   "outputs": [],
   "source": [
    "# Save outfile to csv\n",
    "df_fs.to_csv(\"../input/5w_in24_out24.csv\", index=False ) "
   ]
  },
  {
   "cell_type": "code",
   "execution_count": null,
   "metadata": {
    "collapsed": true
   },
   "outputs": [],
   "source": []
  },
  {
   "cell_type": "code",
   "execution_count": null,
   "metadata": {
    "collapsed": true
   },
   "outputs": [],
   "source": []
  }
 ],
 "metadata": {
  "kernelspec": {
   "display_name": "Python 3",
   "language": "python",
   "name": "python3"
  },
  "language_info": {
   "codemirror_mode": {
    "name": "ipython",
    "version": 3
   },
   "file_extension": ".py",
   "mimetype": "text/x-python",
   "name": "python",
   "nbconvert_exporter": "python",
   "pygments_lexer": "ipython3",
   "version": "3.6.0"
  }
 },
 "nbformat": 4,
 "nbformat_minor": 2
}
