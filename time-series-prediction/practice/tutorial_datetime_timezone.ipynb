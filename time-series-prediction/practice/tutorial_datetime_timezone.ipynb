{
 "cells": [
  {
   "cell_type": "markdown",
   "metadata": {},
   "source": [
    "<h1>Tutorial: Load datetime, timezone change, reindexing and aggregation</h1>"
   ]
  },
  {
   "cell_type": "code",
   "execution_count": 123,
   "metadata": {},
   "outputs": [],
   "source": [
    "import pandas as pd"
   ]
  },
  {
   "cell_type": "code",
   "execution_count": 124,
   "metadata": {},
   "outputs": [],
   "source": [
    "# Specifically indicate which column is datetime in order to recognize datetime\n",
    "df_date = pd.read_csv('../input/timeseries.txt',index_col=0, parse_dates=[1])"
   ]
  },
  {
   "cell_type": "code",
   "execution_count": 125,
   "metadata": {},
   "outputs": [
    {
     "data": {
      "text/plain": [
       "date         datetime64[ns]\n",
       "door_open             int64\n",
       "dtype: object"
      ]
     },
     "execution_count": 125,
     "metadata": {},
     "output_type": "execute_result"
    }
   ],
   "source": [
    "# the date is datetime64[ns], otherwise date is just object type.\n",
    "df_date.dtypes"
   ]
  },
  {
   "cell_type": "code",
   "execution_count": 126,
   "metadata": {},
   "outputs": [
    {
     "data": {
      "text/html": [
       "<div>\n",
       "<style scoped>\n",
       "    .dataframe tbody tr th:only-of-type {\n",
       "        vertical-align: middle;\n",
       "    }\n",
       "\n",
       "    .dataframe tbody tr th {\n",
       "        vertical-align: top;\n",
       "    }\n",
       "\n",
       "    .dataframe thead th {\n",
       "        text-align: right;\n",
       "    }\n",
       "</style>\n",
       "<table border=\"1\" class=\"dataframe\">\n",
       "  <thead>\n",
       "    <tr style=\"text-align: right;\">\n",
       "      <th></th>\n",
       "      <th>date</th>\n",
       "      <th>door_open</th>\n",
       "    </tr>\n",
       "    <tr>\n",
       "      <th>temp</th>\n",
       "      <th></th>\n",
       "      <th></th>\n",
       "    </tr>\n",
       "  </thead>\n",
       "  <tbody>\n",
       "    <tr>\n",
       "      <th>25</th>\n",
       "      <td>2014-01-22 13:11:22</td>\n",
       "      <td>1</td>\n",
       "    </tr>\n",
       "    <tr>\n",
       "      <th>33</th>\n",
       "      <td>2014-01-22 13:13:33</td>\n",
       "      <td>1</td>\n",
       "    </tr>\n",
       "    <tr>\n",
       "      <th>23</th>\n",
       "      <td>2014-01-22 13:15:33</td>\n",
       "      <td>1</td>\n",
       "    </tr>\n",
       "    <tr>\n",
       "      <th>22</th>\n",
       "      <td>2014-01-23 02:22:34</td>\n",
       "      <td>1</td>\n",
       "    </tr>\n",
       "    <tr>\n",
       "      <th>32</th>\n",
       "      <td>2014-01-23 02:34:00</td>\n",
       "      <td>1</td>\n",
       "    </tr>\n",
       "  </tbody>\n",
       "</table>\n",
       "</div>"
      ],
      "text/plain": [
       "                    date  door_open\n",
       "temp                               \n",
       "25   2014-01-22 13:11:22          1\n",
       "33   2014-01-22 13:13:33          1\n",
       "23   2014-01-22 13:15:33          1\n",
       "22   2014-01-23 02:22:34          1\n",
       "32   2014-01-23 02:34:00          1"
      ]
     },
     "execution_count": 126,
     "metadata": {},
     "output_type": "execute_result"
    }
   ],
   "source": [
    "df_date.head()"
   ]
  },
  {
   "cell_type": "code",
   "execution_count": 127,
   "metadata": {},
   "outputs": [],
   "source": [
    "# After setting up to UTC and then convert to Asia/Seoul\n",
    "df_date['seoul_date'] = df_date.date.dt.tz_localize('UTC').dt.tz_convert('Asia/Seoul')"
   ]
  },
  {
   "cell_type": "code",
   "execution_count": 128,
   "metadata": {},
   "outputs": [
    {
     "data": {
      "text/html": [
       "<div>\n",
       "<style scoped>\n",
       "    .dataframe tbody tr th:only-of-type {\n",
       "        vertical-align: middle;\n",
       "    }\n",
       "\n",
       "    .dataframe tbody tr th {\n",
       "        vertical-align: top;\n",
       "    }\n",
       "\n",
       "    .dataframe thead th {\n",
       "        text-align: right;\n",
       "    }\n",
       "</style>\n",
       "<table border=\"1\" class=\"dataframe\">\n",
       "  <thead>\n",
       "    <tr style=\"text-align: right;\">\n",
       "      <th></th>\n",
       "      <th>date</th>\n",
       "      <th>door_open</th>\n",
       "      <th>seoul_date</th>\n",
       "    </tr>\n",
       "    <tr>\n",
       "      <th>temp</th>\n",
       "      <th></th>\n",
       "      <th></th>\n",
       "      <th></th>\n",
       "    </tr>\n",
       "  </thead>\n",
       "  <tbody>\n",
       "    <tr>\n",
       "      <th>25</th>\n",
       "      <td>2014-01-22 13:11:22</td>\n",
       "      <td>1</td>\n",
       "      <td>2014-01-22 22:11:22+09:00</td>\n",
       "    </tr>\n",
       "    <tr>\n",
       "      <th>33</th>\n",
       "      <td>2014-01-22 13:13:33</td>\n",
       "      <td>1</td>\n",
       "      <td>2014-01-22 22:13:33+09:00</td>\n",
       "    </tr>\n",
       "    <tr>\n",
       "      <th>23</th>\n",
       "      <td>2014-01-22 13:15:33</td>\n",
       "      <td>1</td>\n",
       "      <td>2014-01-22 22:15:33+09:00</td>\n",
       "    </tr>\n",
       "    <tr>\n",
       "      <th>22</th>\n",
       "      <td>2014-01-23 02:22:34</td>\n",
       "      <td>1</td>\n",
       "      <td>2014-01-23 11:22:34+09:00</td>\n",
       "    </tr>\n",
       "    <tr>\n",
       "      <th>32</th>\n",
       "      <td>2014-01-23 02:34:00</td>\n",
       "      <td>1</td>\n",
       "      <td>2014-01-23 11:34:00+09:00</td>\n",
       "    </tr>\n",
       "    <tr>\n",
       "      <th>10</th>\n",
       "      <td>2014-01-23 22:33:01</td>\n",
       "      <td>1</td>\n",
       "      <td>2014-01-24 07:33:01+09:00</td>\n",
       "    </tr>\n",
       "    <tr>\n",
       "      <th>12</th>\n",
       "      <td>2014-01-23 23:11:02</td>\n",
       "      <td>1</td>\n",
       "      <td>2014-01-24 08:11:02+09:00</td>\n",
       "    </tr>\n",
       "    <tr>\n",
       "      <th>13</th>\n",
       "      <td>2014-01-24 03:12:03</td>\n",
       "      <td>1</td>\n",
       "      <td>2014-01-24 12:12:03+09:00</td>\n",
       "    </tr>\n",
       "  </tbody>\n",
       "</table>\n",
       "</div>"
      ],
      "text/plain": [
       "                    date  door_open                seoul_date\n",
       "temp                                                         \n",
       "25   2014-01-22 13:11:22          1 2014-01-22 22:11:22+09:00\n",
       "33   2014-01-22 13:13:33          1 2014-01-22 22:13:33+09:00\n",
       "23   2014-01-22 13:15:33          1 2014-01-22 22:15:33+09:00\n",
       "22   2014-01-23 02:22:34          1 2014-01-23 11:22:34+09:00\n",
       "32   2014-01-23 02:34:00          1 2014-01-23 11:34:00+09:00\n",
       "10   2014-01-23 22:33:01          1 2014-01-24 07:33:01+09:00\n",
       "12   2014-01-23 23:11:02          1 2014-01-24 08:11:02+09:00\n",
       "13   2014-01-24 03:12:03          1 2014-01-24 12:12:03+09:00"
      ]
     },
     "execution_count": 128,
     "metadata": {},
     "output_type": "execute_result"
    }
   ],
   "source": [
    "df_date.head(10)"
   ]
  },
  {
   "cell_type": "code",
   "execution_count": 129,
   "metadata": {},
   "outputs": [],
   "source": [
    "# Truncate minutes and seconds, leaving yyyy-mm-dd hh\n",
    "df_date['seoul_date_hour'] = df_date.seoul_date.dt.strftime('%Y-%m-%d %H:00:00')"
   ]
  },
  {
   "cell_type": "code",
   "execution_count": 130,
   "metadata": {},
   "outputs": [
    {
     "data": {
      "text/html": [
       "<div>\n",
       "<style scoped>\n",
       "    .dataframe tbody tr th:only-of-type {\n",
       "        vertical-align: middle;\n",
       "    }\n",
       "\n",
       "    .dataframe tbody tr th {\n",
       "        vertical-align: top;\n",
       "    }\n",
       "\n",
       "    .dataframe thead th {\n",
       "        text-align: right;\n",
       "    }\n",
       "</style>\n",
       "<table border=\"1\" class=\"dataframe\">\n",
       "  <thead>\n",
       "    <tr style=\"text-align: right;\">\n",
       "      <th></th>\n",
       "      <th>date</th>\n",
       "      <th>door_open</th>\n",
       "      <th>seoul_date</th>\n",
       "      <th>seoul_date_hour</th>\n",
       "    </tr>\n",
       "    <tr>\n",
       "      <th>temp</th>\n",
       "      <th></th>\n",
       "      <th></th>\n",
       "      <th></th>\n",
       "      <th></th>\n",
       "    </tr>\n",
       "  </thead>\n",
       "  <tbody>\n",
       "    <tr>\n",
       "      <th>25</th>\n",
       "      <td>2014-01-22 13:11:22</td>\n",
       "      <td>1</td>\n",
       "      <td>2014-01-22 22:11:22+09:00</td>\n",
       "      <td>2014-01-22 22:00:00</td>\n",
       "    </tr>\n",
       "    <tr>\n",
       "      <th>33</th>\n",
       "      <td>2014-01-22 13:13:33</td>\n",
       "      <td>1</td>\n",
       "      <td>2014-01-22 22:13:33+09:00</td>\n",
       "      <td>2014-01-22 22:00:00</td>\n",
       "    </tr>\n",
       "    <tr>\n",
       "      <th>23</th>\n",
       "      <td>2014-01-22 13:15:33</td>\n",
       "      <td>1</td>\n",
       "      <td>2014-01-22 22:15:33+09:00</td>\n",
       "      <td>2014-01-22 22:00:00</td>\n",
       "    </tr>\n",
       "    <tr>\n",
       "      <th>22</th>\n",
       "      <td>2014-01-23 02:22:34</td>\n",
       "      <td>1</td>\n",
       "      <td>2014-01-23 11:22:34+09:00</td>\n",
       "      <td>2014-01-23 11:00:00</td>\n",
       "    </tr>\n",
       "    <tr>\n",
       "      <th>32</th>\n",
       "      <td>2014-01-23 02:34:00</td>\n",
       "      <td>1</td>\n",
       "      <td>2014-01-23 11:34:00+09:00</td>\n",
       "      <td>2014-01-23 11:00:00</td>\n",
       "    </tr>\n",
       "    <tr>\n",
       "      <th>10</th>\n",
       "      <td>2014-01-23 22:33:01</td>\n",
       "      <td>1</td>\n",
       "      <td>2014-01-24 07:33:01+09:00</td>\n",
       "      <td>2014-01-24 07:00:00</td>\n",
       "    </tr>\n",
       "    <tr>\n",
       "      <th>12</th>\n",
       "      <td>2014-01-23 23:11:02</td>\n",
       "      <td>1</td>\n",
       "      <td>2014-01-24 08:11:02+09:00</td>\n",
       "      <td>2014-01-24 08:00:00</td>\n",
       "    </tr>\n",
       "    <tr>\n",
       "      <th>13</th>\n",
       "      <td>2014-01-24 03:12:03</td>\n",
       "      <td>1</td>\n",
       "      <td>2014-01-24 12:12:03+09:00</td>\n",
       "      <td>2014-01-24 12:00:00</td>\n",
       "    </tr>\n",
       "  </tbody>\n",
       "</table>\n",
       "</div>"
      ],
      "text/plain": [
       "                    date  door_open                seoul_date  \\\n",
       "temp                                                            \n",
       "25   2014-01-22 13:11:22          1 2014-01-22 22:11:22+09:00   \n",
       "33   2014-01-22 13:13:33          1 2014-01-22 22:13:33+09:00   \n",
       "23   2014-01-22 13:15:33          1 2014-01-22 22:15:33+09:00   \n",
       "22   2014-01-23 02:22:34          1 2014-01-23 11:22:34+09:00   \n",
       "32   2014-01-23 02:34:00          1 2014-01-23 11:34:00+09:00   \n",
       "10   2014-01-23 22:33:01          1 2014-01-24 07:33:01+09:00   \n",
       "12   2014-01-23 23:11:02          1 2014-01-24 08:11:02+09:00   \n",
       "13   2014-01-24 03:12:03          1 2014-01-24 12:12:03+09:00   \n",
       "\n",
       "          seoul_date_hour  \n",
       "temp                       \n",
       "25    2014-01-22 22:00:00  \n",
       "33    2014-01-22 22:00:00  \n",
       "23    2014-01-22 22:00:00  \n",
       "22    2014-01-23 11:00:00  \n",
       "32    2014-01-23 11:00:00  \n",
       "10    2014-01-24 07:00:00  \n",
       "12    2014-01-24 08:00:00  \n",
       "13    2014-01-24 12:00:00  "
      ]
     },
     "execution_count": 130,
     "metadata": {},
     "output_type": "execute_result"
    }
   ],
   "source": [
    "df_date.head(10)"
   ]
  },
  {
   "cell_type": "code",
   "execution_count": 131,
   "metadata": {},
   "outputs": [
    {
     "data": {
      "text/plain": [
       "date                           datetime64[ns]\n",
       "door_open                               int64\n",
       "seoul_date         datetime64[ns, Asia/Seoul]\n",
       "seoul_date_hour                        object\n",
       "dtype: object"
      ]
     },
     "execution_count": 131,
     "metadata": {},
     "output_type": "execute_result"
    }
   ],
   "source": [
    "df_date.dtypes"
   ]
  },
  {
   "cell_type": "code",
   "execution_count": 132,
   "metadata": {},
   "outputs": [
    {
     "data": {
      "text/html": [
       "<div>\n",
       "<style scoped>\n",
       "    .dataframe tbody tr th:only-of-type {\n",
       "        vertical-align: middle;\n",
       "    }\n",
       "\n",
       "    .dataframe tbody tr th {\n",
       "        vertical-align: top;\n",
       "    }\n",
       "\n",
       "    .dataframe thead th {\n",
       "        text-align: right;\n",
       "    }\n",
       "</style>\n",
       "<table border=\"1\" class=\"dataframe\">\n",
       "  <thead>\n",
       "    <tr style=\"text-align: right;\">\n",
       "      <th></th>\n",
       "      <th>door_open</th>\n",
       "    </tr>\n",
       "    <tr>\n",
       "      <th>seoul_date_hour</th>\n",
       "      <th></th>\n",
       "    </tr>\n",
       "  </thead>\n",
       "  <tbody>\n",
       "    <tr>\n",
       "      <th>2014-01-22 22:00:00</th>\n",
       "      <td>3</td>\n",
       "    </tr>\n",
       "    <tr>\n",
       "      <th>2014-01-23 11:00:00</th>\n",
       "      <td>2</td>\n",
       "    </tr>\n",
       "    <tr>\n",
       "      <th>2014-01-24 07:00:00</th>\n",
       "      <td>1</td>\n",
       "    </tr>\n",
       "    <tr>\n",
       "      <th>2014-01-24 08:00:00</th>\n",
       "      <td>1</td>\n",
       "    </tr>\n",
       "    <tr>\n",
       "      <th>2014-01-24 12:00:00</th>\n",
       "      <td>1</td>\n",
       "    </tr>\n",
       "  </tbody>\n",
       "</table>\n",
       "</div>"
      ],
      "text/plain": [
       "                     door_open\n",
       "seoul_date_hour               \n",
       "2014-01-22 22:00:00          3\n",
       "2014-01-23 11:00:00          2\n",
       "2014-01-24 07:00:00          1\n",
       "2014-01-24 08:00:00          1\n",
       "2014-01-24 12:00:00          1"
      ]
     },
     "execution_count": 132,
     "metadata": {},
     "output_type": "execute_result"
    }
   ],
   "source": [
    "# aggregate by hour\n",
    "df_d_open = df_date.groupby('seoul_date_hour').agg({'door_open':sum})\n",
    "df_d_open.head(10)\n"
   ]
  },
  {
   "cell_type": "code",
   "execution_count": 133,
   "metadata": {},
   "outputs": [
    {
     "data": {
      "text/plain": [
       "Index(['2014-01-22 22:00:00', '2014-01-23 11:00:00', '2014-01-24 07:00:00',\n",
       "       '2014-01-24 08:00:00', '2014-01-24 12:00:00'],\n",
       "      dtype='object', name='seoul_date_hour')"
      ]
     },
     "execution_count": 133,
     "metadata": {},
     "output_type": "execute_result"
    }
   ],
   "source": [
    "# check what kind of type an index is\n",
    "# the type is object \n",
    "df_d_open.index"
   ]
  },
  {
   "cell_type": "code",
   "execution_count": 135,
   "metadata": {},
   "outputs": [],
   "source": [
    "# convert the type of object to datetime64\n",
    "df_d_open.index = pd.to_datetime(df_d_open.index)"
   ]
  },
  {
   "cell_type": "code",
   "execution_count": 136,
   "metadata": {},
   "outputs": [
    {
     "data": {
      "text/plain": [
       "DatetimeIndex(['2014-01-22 22:00:00', '2014-01-23 11:00:00',\n",
       "               '2014-01-24 07:00:00', '2014-01-24 08:00:00',\n",
       "               '2014-01-24 12:00:00'],\n",
       "              dtype='datetime64[ns]', name='seoul_date_hour', freq=None)"
      ]
     },
     "execution_count": 136,
     "metadata": {},
     "output_type": "execute_result"
    }
   ],
   "source": [
    "df_d_open.index"
   ]
  },
  {
   "cell_type": "code",
   "execution_count": 153,
   "metadata": {
    "scrolled": true
   },
   "outputs": [
    {
     "name": "stdout",
     "output_type": "stream",
     "text": [
      "2014-01-22 22:00:00\n",
      "2014-01-24 12:00:00\n"
     ]
    }
   ],
   "source": [
    "# Get the last index value\n",
    "end_index = df_d_open.shape[0] - 1\n",
    "print(df_d_open.index[0])\n",
    "print(df_d_open.index[end_index])\n",
    "\n"
   ]
  },
  {
   "cell_type": "code",
   "execution_count": 167,
   "metadata": {},
   "outputs": [],
   "source": [
    "# get a range of start and end\n",
    "all_times = pd.date_range(df_d_open.index[0],df_d_open.index[end_index], freq = \"H\").floor('H')"
   ]
  },
  {
   "cell_type": "code",
   "execution_count": 168,
   "metadata": {},
   "outputs": [],
   "source": [
    "# fill 0 for the new records\n",
    "df_all = df_d_open.reindex(all_times, fill_value=0)\n",
    "# Set to an index name\n",
    "df_all.index.name = \"seoul_date\""
   ]
  },
  {
   "cell_type": "code",
   "execution_count": 169,
   "metadata": {},
   "outputs": [
    {
     "data": {
      "text/html": [
       "<div>\n",
       "<style scoped>\n",
       "    .dataframe tbody tr th:only-of-type {\n",
       "        vertical-align: middle;\n",
       "    }\n",
       "\n",
       "    .dataframe tbody tr th {\n",
       "        vertical-align: top;\n",
       "    }\n",
       "\n",
       "    .dataframe thead th {\n",
       "        text-align: right;\n",
       "    }\n",
       "</style>\n",
       "<table border=\"1\" class=\"dataframe\">\n",
       "  <thead>\n",
       "    <tr style=\"text-align: right;\">\n",
       "      <th></th>\n",
       "      <th>door_open</th>\n",
       "    </tr>\n",
       "    <tr>\n",
       "      <th>seoul_date</th>\n",
       "      <th></th>\n",
       "    </tr>\n",
       "  </thead>\n",
       "  <tbody>\n",
       "    <tr>\n",
       "      <th>2014-01-22 22:00:00</th>\n",
       "      <td>3</td>\n",
       "    </tr>\n",
       "    <tr>\n",
       "      <th>2014-01-22 23:00:00</th>\n",
       "      <td>0</td>\n",
       "    </tr>\n",
       "    <tr>\n",
       "      <th>2014-01-23 00:00:00</th>\n",
       "      <td>0</td>\n",
       "    </tr>\n",
       "    <tr>\n",
       "      <th>2014-01-23 01:00:00</th>\n",
       "      <td>0</td>\n",
       "    </tr>\n",
       "    <tr>\n",
       "      <th>2014-01-23 02:00:00</th>\n",
       "      <td>0</td>\n",
       "    </tr>\n",
       "    <tr>\n",
       "      <th>2014-01-23 03:00:00</th>\n",
       "      <td>0</td>\n",
       "    </tr>\n",
       "    <tr>\n",
       "      <th>2014-01-23 04:00:00</th>\n",
       "      <td>0</td>\n",
       "    </tr>\n",
       "    <tr>\n",
       "      <th>2014-01-23 05:00:00</th>\n",
       "      <td>0</td>\n",
       "    </tr>\n",
       "    <tr>\n",
       "      <th>2014-01-23 06:00:00</th>\n",
       "      <td>0</td>\n",
       "    </tr>\n",
       "    <tr>\n",
       "      <th>2014-01-23 07:00:00</th>\n",
       "      <td>0</td>\n",
       "    </tr>\n",
       "  </tbody>\n",
       "</table>\n",
       "</div>"
      ],
      "text/plain": [
       "                     door_open\n",
       "seoul_date                    \n",
       "2014-01-22 22:00:00          3\n",
       "2014-01-22 23:00:00          0\n",
       "2014-01-23 00:00:00          0\n",
       "2014-01-23 01:00:00          0\n",
       "2014-01-23 02:00:00          0\n",
       "2014-01-23 03:00:00          0\n",
       "2014-01-23 04:00:00          0\n",
       "2014-01-23 05:00:00          0\n",
       "2014-01-23 06:00:00          0\n",
       "2014-01-23 07:00:00          0"
      ]
     },
     "execution_count": 169,
     "metadata": {},
     "output_type": "execute_result"
    }
   ],
   "source": [
    "df_all.head(10)"
   ]
  },
  {
   "cell_type": "code",
   "execution_count": 170,
   "metadata": {},
   "outputs": [
    {
     "data": {
      "image/png": "[encoded data removed]",
      "text/plain": [
       "<matplotlib.figure.Figure at 0x11c80d780>"
      ]
     },
     "metadata": {},
     "output_type": "display_data"
    }
   ],
   "source": [
    "# draw a plot\n",
    "%matplotlib inline\n",
    "import matplotlib.pyplot as plt\n",
    "plt.plot(df_all)\n",
    "plt.show()"
   ]
  },
  {
   "cell_type": "code",
   "execution_count": 172,
   "metadata": {},
   "outputs": [],
   "source": [
    "# Save to csv file\n",
    "df_all.to_csv('../input/timeseries_agg.txt')"
   ]
  },
  {
   "cell_type": "markdown",
   "metadata": {},
   "source": [
    "Ref:<br>\n",
    "[1] Summarising, Aggregating, and Grouping data in Python Pandas, https://www.shanelynn.ie/summarising-aggregation-and-grouping-data-in-python-pandas/ <br>\n",
    "[2] Pandas reindex datetimeindex keeping existing values, \n",
    "https://stackoverflow.com/questions/48378107/pandas-reindex-datetimeindex-keeping-existing-values\n"
   ]
  },
  {
   "cell_type": "code",
   "execution_count": null,
   "metadata": {},
   "outputs": [],
   "source": []
  }
 ],
 "metadata": {
  "kernelspec": {
   "display_name": "Python 3",
   "language": "python",
   "name": "python3"
  },
  "language_info": {
   "codemirror_mode": {
    "name": "ipython",
    "version": 3
   },
   "file_extension": ".py",
   "mimetype": "text/x-python",
   "name": "python",
   "nbconvert_exporter": "python",
   "pygments_lexer": "ipython3",
   "version": "3.6.4"
  }
 },
 "nbformat": 4,
 "nbformat_minor": 2
}
