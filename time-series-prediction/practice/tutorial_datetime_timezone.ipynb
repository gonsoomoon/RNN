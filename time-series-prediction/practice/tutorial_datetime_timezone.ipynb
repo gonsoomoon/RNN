{
 "cells": [
  {
   "cell_type": "markdown",
   "metadata": {},
   "source": [
    "<h1>Tutorial: Load datetime, timezone change and aggregation</h1>"
   ]
  },
  {
   "cell_type": "code",
   "execution_count": 66,
   "metadata": {},
   "outputs": [],
   "source": [
    "import pandas as pd"
   ]
  },
  {
   "cell_type": "code",
   "execution_count": 67,
   "metadata": {},
   "outputs": [],
   "source": [
    "# Specifically indicate which column is datetime in order to recognize datetime\n",
    "df_date = pd.read_csv('../input/timeseries.txt',index_col=0, parse_dates=[1])"
   ]
  },
  {
   "cell_type": "code",
   "execution_count": 68,
   "metadata": {},
   "outputs": [
    {
     "data": {
      "text/plain": [
       "date         datetime64[ns]\n",
       "door_open             int64\n",
       "dtype: object"
      ]
     },
     "execution_count": 68,
     "metadata": {},
     "output_type": "execute_result"
    }
   ],
   "source": [
    "# the date is datetime64[ns], otherwise date is just object type.\n",
    "df_date.dtypes"
   ]
  },
  {
   "cell_type": "code",
   "execution_count": 69,
   "metadata": {},
   "outputs": [
    {
     "data": {
      "text/html": [
       "<div>\n",
       "<style scoped>\n",
       "    .dataframe tbody tr th:only-of-type {\n",
       "        vertical-align: middle;\n",
       "    }\n",
       "\n",
       "    .dataframe tbody tr th {\n",
       "        vertical-align: top;\n",
       "    }\n",
       "\n",
       "    .dataframe thead th {\n",
       "        text-align: right;\n",
       "    }\n",
       "</style>\n",
       "<table border=\"1\" class=\"dataframe\">\n",
       "  <thead>\n",
       "    <tr style=\"text-align: right;\">\n",
       "      <th></th>\n",
       "      <th>date</th>\n",
       "      <th>door_open</th>\n",
       "    </tr>\n",
       "    <tr>\n",
       "      <th>temp</th>\n",
       "      <th></th>\n",
       "      <th></th>\n",
       "    </tr>\n",
       "  </thead>\n",
       "  <tbody>\n",
       "    <tr>\n",
       "      <th>25</th>\n",
       "      <td>2014-01-22 13:11:22</td>\n",
       "      <td>1</td>\n",
       "    </tr>\n",
       "    <tr>\n",
       "      <th>33</th>\n",
       "      <td>2014-01-22 13:13:33</td>\n",
       "      <td>1</td>\n",
       "    </tr>\n",
       "    <tr>\n",
       "      <th>23</th>\n",
       "      <td>2014-01-22 13:15:33</td>\n",
       "      <td>1</td>\n",
       "    </tr>\n",
       "    <tr>\n",
       "      <th>22</th>\n",
       "      <td>2017-12-07 02:22:34</td>\n",
       "      <td>1</td>\n",
       "    </tr>\n",
       "    <tr>\n",
       "      <th>32</th>\n",
       "      <td>2017-12-07 02:34:00</td>\n",
       "      <td>1</td>\n",
       "    </tr>\n",
       "  </tbody>\n",
       "</table>\n",
       "</div>"
      ],
      "text/plain": [
       "                    date  door_open\n",
       "temp                               \n",
       "25   2014-01-22 13:11:22          1\n",
       "33   2014-01-22 13:13:33          1\n",
       "23   2014-01-22 13:15:33          1\n",
       "22   2017-12-07 02:22:34          1\n",
       "32   2017-12-07 02:34:00          1"
      ]
     },
     "execution_count": 69,
     "metadata": {},
     "output_type": "execute_result"
    }
   ],
   "source": [
    "df_date.head()"
   ]
  },
  {
   "cell_type": "code",
   "execution_count": 70,
   "metadata": {},
   "outputs": [],
   "source": [
    "# After setting up to UTC and then convert to Asia/Seoul\n",
    "df_date['seoul_date'] = df_date.date.dt.tz_localize('UTC').dt.tz_convert('Asia/Seoul')"
   ]
  },
  {
   "cell_type": "code",
   "execution_count": 71,
   "metadata": {},
   "outputs": [
    {
     "data": {
      "text/html": [
       "<div>\n",
       "<style scoped>\n",
       "    .dataframe tbody tr th:only-of-type {\n",
       "        vertical-align: middle;\n",
       "    }\n",
       "\n",
       "    .dataframe tbody tr th {\n",
       "        vertical-align: top;\n",
       "    }\n",
       "\n",
       "    .dataframe thead th {\n",
       "        text-align: right;\n",
       "    }\n",
       "</style>\n",
       "<table border=\"1\" class=\"dataframe\">\n",
       "  <thead>\n",
       "    <tr style=\"text-align: right;\">\n",
       "      <th></th>\n",
       "      <th>date</th>\n",
       "      <th>door_open</th>\n",
       "      <th>seoul_date</th>\n",
       "    </tr>\n",
       "    <tr>\n",
       "      <th>temp</th>\n",
       "      <th></th>\n",
       "      <th></th>\n",
       "      <th></th>\n",
       "    </tr>\n",
       "  </thead>\n",
       "  <tbody>\n",
       "    <tr>\n",
       "      <th>25</th>\n",
       "      <td>2014-01-22 13:11:22</td>\n",
       "      <td>1</td>\n",
       "      <td>2014-01-22 22:11:22+09:00</td>\n",
       "    </tr>\n",
       "    <tr>\n",
       "      <th>33</th>\n",
       "      <td>2014-01-22 13:13:33</td>\n",
       "      <td>1</td>\n",
       "      <td>2014-01-22 22:13:33+09:00</td>\n",
       "    </tr>\n",
       "    <tr>\n",
       "      <th>23</th>\n",
       "      <td>2014-01-22 13:15:33</td>\n",
       "      <td>1</td>\n",
       "      <td>2014-01-22 22:15:33+09:00</td>\n",
       "    </tr>\n",
       "    <tr>\n",
       "      <th>22</th>\n",
       "      <td>2017-12-07 02:22:34</td>\n",
       "      <td>1</td>\n",
       "      <td>2017-12-07 11:22:34+09:00</td>\n",
       "    </tr>\n",
       "    <tr>\n",
       "      <th>32</th>\n",
       "      <td>2017-12-07 02:34:00</td>\n",
       "      <td>1</td>\n",
       "      <td>2017-12-07 11:34:00+09:00</td>\n",
       "    </tr>\n",
       "    <tr>\n",
       "      <th>10</th>\n",
       "      <td>2017-12-07 22:33:01</td>\n",
       "      <td>1</td>\n",
       "      <td>2017-12-08 07:33:01+09:00</td>\n",
       "    </tr>\n",
       "    <tr>\n",
       "      <th>12</th>\n",
       "      <td>2017-12-07 23:11:02</td>\n",
       "      <td>1</td>\n",
       "      <td>2017-12-08 08:11:02+09:00</td>\n",
       "    </tr>\n",
       "    <tr>\n",
       "      <th>13</th>\n",
       "      <td>2017-12-07 23:12:03</td>\n",
       "      <td>1</td>\n",
       "      <td>2017-12-08 08:12:03+09:00</td>\n",
       "    </tr>\n",
       "  </tbody>\n",
       "</table>\n",
       "</div>"
      ],
      "text/plain": [
       "                    date  door_open                seoul_date\n",
       "temp                                                         \n",
       "25   2014-01-22 13:11:22          1 2014-01-22 22:11:22+09:00\n",
       "33   2014-01-22 13:13:33          1 2014-01-22 22:13:33+09:00\n",
       "23   2014-01-22 13:15:33          1 2014-01-22 22:15:33+09:00\n",
       "22   2017-12-07 02:22:34          1 2017-12-07 11:22:34+09:00\n",
       "32   2017-12-07 02:34:00          1 2017-12-07 11:34:00+09:00\n",
       "10   2017-12-07 22:33:01          1 2017-12-08 07:33:01+09:00\n",
       "12   2017-12-07 23:11:02          1 2017-12-08 08:11:02+09:00\n",
       "13   2017-12-07 23:12:03          1 2017-12-08 08:12:03+09:00"
      ]
     },
     "execution_count": 71,
     "metadata": {},
     "output_type": "execute_result"
    }
   ],
   "source": [
    "df_date.head(10)"
   ]
  },
  {
   "cell_type": "code",
   "execution_count": 72,
   "metadata": {},
   "outputs": [],
   "source": [
    "# Truncate minutes and seconds, leaving yyyy-mm-dd hh\n",
    "df_date['seoul_date_hour'] = df_date.seoul_date.dt.strftime('%Y-%m-%d %H:00:00')"
   ]
  },
  {
   "cell_type": "code",
   "execution_count": 73,
   "metadata": {},
   "outputs": [
    {
     "data": {
      "text/html": [
       "<div>\n",
       "<style scoped>\n",
       "    .dataframe tbody tr th:only-of-type {\n",
       "        vertical-align: middle;\n",
       "    }\n",
       "\n",
       "    .dataframe tbody tr th {\n",
       "        vertical-align: top;\n",
       "    }\n",
       "\n",
       "    .dataframe thead th {\n",
       "        text-align: right;\n",
       "    }\n",
       "</style>\n",
       "<table border=\"1\" class=\"dataframe\">\n",
       "  <thead>\n",
       "    <tr style=\"text-align: right;\">\n",
       "      <th></th>\n",
       "      <th>date</th>\n",
       "      <th>door_open</th>\n",
       "      <th>seoul_date</th>\n",
       "      <th>seoul_date_hour</th>\n",
       "    </tr>\n",
       "    <tr>\n",
       "      <th>temp</th>\n",
       "      <th></th>\n",
       "      <th></th>\n",
       "      <th></th>\n",
       "      <th></th>\n",
       "    </tr>\n",
       "  </thead>\n",
       "  <tbody>\n",
       "    <tr>\n",
       "      <th>25</th>\n",
       "      <td>2014-01-22 13:11:22</td>\n",
       "      <td>1</td>\n",
       "      <td>2014-01-22 22:11:22+09:00</td>\n",
       "      <td>2014-01-22 22:00:00</td>\n",
       "    </tr>\n",
       "    <tr>\n",
       "      <th>33</th>\n",
       "      <td>2014-01-22 13:13:33</td>\n",
       "      <td>1</td>\n",
       "      <td>2014-01-22 22:13:33+09:00</td>\n",
       "      <td>2014-01-22 22:00:00</td>\n",
       "    </tr>\n",
       "    <tr>\n",
       "      <th>23</th>\n",
       "      <td>2014-01-22 13:15:33</td>\n",
       "      <td>1</td>\n",
       "      <td>2014-01-22 22:15:33+09:00</td>\n",
       "      <td>2014-01-22 22:00:00</td>\n",
       "    </tr>\n",
       "    <tr>\n",
       "      <th>22</th>\n",
       "      <td>2017-12-07 02:22:34</td>\n",
       "      <td>1</td>\n",
       "      <td>2017-12-07 11:22:34+09:00</td>\n",
       "      <td>2017-12-07 11:00:00</td>\n",
       "    </tr>\n",
       "    <tr>\n",
       "      <th>32</th>\n",
       "      <td>2017-12-07 02:34:00</td>\n",
       "      <td>1</td>\n",
       "      <td>2017-12-07 11:34:00+09:00</td>\n",
       "      <td>2017-12-07 11:00:00</td>\n",
       "    </tr>\n",
       "    <tr>\n",
       "      <th>10</th>\n",
       "      <td>2017-12-07 22:33:01</td>\n",
       "      <td>1</td>\n",
       "      <td>2017-12-08 07:33:01+09:00</td>\n",
       "      <td>2017-12-08 07:00:00</td>\n",
       "    </tr>\n",
       "    <tr>\n",
       "      <th>12</th>\n",
       "      <td>2017-12-07 23:11:02</td>\n",
       "      <td>1</td>\n",
       "      <td>2017-12-08 08:11:02+09:00</td>\n",
       "      <td>2017-12-08 08:00:00</td>\n",
       "    </tr>\n",
       "    <tr>\n",
       "      <th>13</th>\n",
       "      <td>2017-12-07 23:12:03</td>\n",
       "      <td>1</td>\n",
       "      <td>2017-12-08 08:12:03+09:00</td>\n",
       "      <td>2017-12-08 08:00:00</td>\n",
       "    </tr>\n",
       "  </tbody>\n",
       "</table>\n",
       "</div>"
      ],
      "text/plain": [
       "                    date  door_open                seoul_date  \\\n",
       "temp                                                            \n",
       "25   2014-01-22 13:11:22          1 2014-01-22 22:11:22+09:00   \n",
       "33   2014-01-22 13:13:33          1 2014-01-22 22:13:33+09:00   \n",
       "23   2014-01-22 13:15:33          1 2014-01-22 22:15:33+09:00   \n",
       "22   2017-12-07 02:22:34          1 2017-12-07 11:22:34+09:00   \n",
       "32   2017-12-07 02:34:00          1 2017-12-07 11:34:00+09:00   \n",
       "10   2017-12-07 22:33:01          1 2017-12-08 07:33:01+09:00   \n",
       "12   2017-12-07 23:11:02          1 2017-12-08 08:11:02+09:00   \n",
       "13   2017-12-07 23:12:03          1 2017-12-08 08:12:03+09:00   \n",
       "\n",
       "          seoul_date_hour  \n",
       "temp                       \n",
       "25    2014-01-22 22:00:00  \n",
       "33    2014-01-22 22:00:00  \n",
       "23    2014-01-22 22:00:00  \n",
       "22    2017-12-07 11:00:00  \n",
       "32    2017-12-07 11:00:00  \n",
       "10    2017-12-08 07:00:00  \n",
       "12    2017-12-08 08:00:00  \n",
       "13    2017-12-08 08:00:00  "
      ]
     },
     "execution_count": 73,
     "metadata": {},
     "output_type": "execute_result"
    }
   ],
   "source": [
    "df_date.head(10)"
   ]
  },
  {
   "cell_type": "code",
   "execution_count": 74,
   "metadata": {},
   "outputs": [
    {
     "data": {
      "text/plain": [
       "date                           datetime64[ns]\n",
       "door_open                               int64\n",
       "seoul_date         datetime64[ns, Asia/Seoul]\n",
       "seoul_date_hour                        object\n",
       "dtype: object"
      ]
     },
     "execution_count": 74,
     "metadata": {},
     "output_type": "execute_result"
    }
   ],
   "source": [
    "df_date.dtypes"
   ]
  },
  {
   "cell_type": "code",
   "execution_count": 75,
   "metadata": {},
   "outputs": [
    {
     "data": {
      "text/html": [
       "<div>\n",
       "<style scoped>\n",
       "    .dataframe tbody tr th:only-of-type {\n",
       "        vertical-align: middle;\n",
       "    }\n",
       "\n",
       "    .dataframe tbody tr th {\n",
       "        vertical-align: top;\n",
       "    }\n",
       "\n",
       "    .dataframe thead th {\n",
       "        text-align: right;\n",
       "    }\n",
       "</style>\n",
       "<table border=\"1\" class=\"dataframe\">\n",
       "  <thead>\n",
       "    <tr style=\"text-align: right;\">\n",
       "      <th></th>\n",
       "      <th>door_open</th>\n",
       "    </tr>\n",
       "    <tr>\n",
       "      <th>seoul_date_hour</th>\n",
       "      <th></th>\n",
       "    </tr>\n",
       "  </thead>\n",
       "  <tbody>\n",
       "    <tr>\n",
       "      <th>2014-01-22 22:00:00</th>\n",
       "      <td>3</td>\n",
       "    </tr>\n",
       "    <tr>\n",
       "      <th>2017-12-07 11:00:00</th>\n",
       "      <td>2</td>\n",
       "    </tr>\n",
       "    <tr>\n",
       "      <th>2017-12-08 07:00:00</th>\n",
       "      <td>1</td>\n",
       "    </tr>\n",
       "    <tr>\n",
       "      <th>2017-12-08 08:00:00</th>\n",
       "      <td>2</td>\n",
       "    </tr>\n",
       "  </tbody>\n",
       "</table>\n",
       "</div>"
      ],
      "text/plain": [
       "                     door_open\n",
       "seoul_date_hour               \n",
       "2014-01-22 22:00:00          3\n",
       "2017-12-07 11:00:00          2\n",
       "2017-12-08 07:00:00          1\n",
       "2017-12-08 08:00:00          2"
      ]
     },
     "execution_count": 75,
     "metadata": {},
     "output_type": "execute_result"
    }
   ],
   "source": [
    "# aggregate by hour\n",
    "df_d_open = df_date.groupby('seoul_date_hour').agg({'door_open':sum})\n",
    "df_d_open.head(10)\n"
   ]
  },
  {
   "cell_type": "code",
   "execution_count": 76,
   "metadata": {},
   "outputs": [
    {
     "data": {
      "image/png": "[encoded data removed]",
      "text/plain": [
       "<matplotlib.figure.Figure at 0x10ccad5f8>"
      ]
     },
     "metadata": {},
     "output_type": "display_data"
    }
   ],
   "source": [
    "# draw a plot\n",
    "%matplotlib inline\n",
    "import matplotlib.pyplot as plt\n",
    "plt.plot(df_d_open)\n",
    "plt.show()"
   ]
  },
  {
   "cell_type": "markdown",
   "metadata": {},
   "source": [
    "Ref:<br>\n",
    "Summarising, Aggregating, and Grouping data in Python Pandas, https://www.shanelynn.ie/summarising-aggregation-and-grouping-data-in-python-pandas/"
   ]
  },
  {
   "cell_type": "code",
   "execution_count": null,
   "metadata": {},
   "outputs": [],
   "source": []
  }
 ],
 "metadata": {
  "kernelspec": {
   "display_name": "Python 3",
   "language": "python",
   "name": "python3"
  },
  "language_info": {
   "codemirror_mode": {
    "name": "ipython",
    "version": 3
   },
   "file_extension": ".py",
   "mimetype": "text/x-python",
   "name": "python",
   "nbconvert_exporter": "python",
   "pygments_lexer": "ipython3",
   "version": "3.6.4"
  }
 },
 "nbformat": 4,
 "nbformat_minor": 2
}
