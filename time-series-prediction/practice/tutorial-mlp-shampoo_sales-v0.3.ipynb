{
 "cells": [
  {
   "cell_type": "markdown",
   "metadata": {},
   "source": [
    "<h1>Exploratory Configuration of a Multilayer Perceptron Network for Time Series Forecasting</h1><br>\n",
    "https://machinelearningmastery.com/exploratory-configuration-multilayer-perceptron-network-time-series-forecasting/"
   ]
  },
  {
   "cell_type": "markdown",
   "metadata": {},
   "source": [
    "<h2>Data Preparation</h2><br>\n",
    "1. Transform the time series data so that it is stationary.<br>\n",
    "Specifically, a log=1 differencing to remove the increasing trend in the data<br>\n",
    "2. Transform the time series into a supervised learning problem. <br>\n",
    "Specifically, the orgranization of data into input and output patterns where the observation at the previous time step is used as an input to forecast the observation at the current timestep<br>\n",
    "3.Trnsform the observations to have a specific sacle.<br>\n",
    "Specifically, to rescale the data to values between -1 and 1"
   ]
  },
  {
   "cell_type": "markdown",
   "metadata": {},
   "source": [
    "<h2>1. Load input</h2>"
   ]
  },
  {
   "cell_type": "code",
   "execution_count": 1,
   "metadata": {
    "collapsed": false,
    "scrolled": true
   },
   "outputs": [],
   "source": [
    "import sys\n",
    "# add util lib path\n",
    "sys.path.append('/Users/gonsoomoon/Documents/DeepLearning/rnn/time_series_prediction/util')"
   ]
  },
  {
   "cell_type": "code",
   "execution_count": 2,
   "metadata": {
    "collapsed": false,
    "scrolled": true
   },
   "outputs": [],
   "source": [
    "import pandas as pd\n",
    "from pandas import datetime\n",
    "from matplotlib import pyplot\n",
    "import ts_input  as ui   # user-defined lib\n",
    "from pandas import DataFrame\n",
    "shampoo_input = '../input/sales-of-shampoo-over-a-three-ye.csv'\n",
    "series = ui.load_series_data(shampoo_input)"
   ]
  },
  {
   "cell_type": "code",
   "execution_count": 3,
   "metadata": {
    "collapsed": false
   },
   "outputs": [
    {
     "data": {
      "image/png": "[encoded data removed]",
      "text/plain": [
       "<matplotlib.figure.Figure at 0x115d42c88>"
      ]
     },
     "metadata": {},
     "output_type": "display_data"
    }
   ],
   "source": [
    "\n",
    "def convert_to_datestring(idx):\n",
    "    dt = []\n",
    "    for i in idx:\n",
    "        s_date = \"190\" + str(i[3]) + str(i[4:7])\n",
    "        dt.append(s_date)\n",
    "        #print(date)\n",
    "    return dt\n",
    "\n",
    "dt = convert_to_datestring(series.index)\n",
    "#print(dt)\n",
    "#DatetimeIndex.strftime(date_format\n",
    "series.index = dt\n",
    "series.plot()\n",
    "pyplot.show()\n",
    "\n"
   ]
  },
  {
   "cell_type": "markdown",
   "metadata": {},
   "source": [
    "<h2>2. Make supervised feature set</h2>"
   ]
  },
  {
   "cell_type": "code",
   "execution_count": 4,
   "metadata": {
    "collapsed": false
   },
   "outputs": [
    {
     "name": "stderr",
     "output_type": "stream",
     "text": [
      "Using TensorFlow backend.\n"
     ]
    }
   ],
   "source": [
    "from pandas import DataFrame\n",
    "from pandas import Series\n",
    "from pandas import concat\n",
    "from pandas import read_csv\n",
    "from pandas import datetime\n",
    "from sklearn.metrics import mean_squared_error\n",
    "from sklearn.preprocessing import MinMaxScaler\n",
    "from keras.models import Sequential\n",
    "from keras.layers import Dense\n",
    "from math import sqrt\n",
    "import matplotlib\n",
    "# be able to save images on server\n",
    "# matplotlib.use('Agg')\n",
    "from matplotlib import pyplot\n",
    "import numpy"
   ]
  },
  {
   "cell_type": "markdown",
   "metadata": {},
   "source": [
    "<h2>2.1. Utility functions</h2>"
   ]
  },
  {
   "cell_type": "code",
   "execution_count": 5,
   "metadata": {
    "collapsed": true
   },
   "outputs": [],
   "source": [
    "from pandas import DataFrame\n",
    "from pandas import concat\n",
    "\n",
    "def series_to_supervised(data, n_in = 1, n_out = 1, dropnan=True):\n",
    "    \"\"\"\n",
    "\tFrame a time series as a supervised learning dataset.\n",
    "\tArguments:\n",
    "\t\tdata: Sequence of observations as a list or NumPy array.\n",
    "\t\tn_in: Number of lag observations as input (X).\n",
    "\t\tn_out: Number of observations as output (y).\n",
    "\t\tdropnan: Boolean whether or not to drop rows with NaN values.\n",
    "\tReturns:\n",
    "\t\tPandas DataFrame of series framed for supervised learning.\n",
    "    \"\"\"\n",
    "    n_vars = 1 if type(data) is list else data.shape[1]\n",
    "    df = DataFrame(data)\n",
    "    cols, names = list(), list()\n",
    "    # input sequence (t-n, ... , t-1)\n",
    "    for i in range(n_in, 0, -1):\n",
    "        cols.append(df.shift(i))\n",
    "        names += [('var%d(t-%d)' % (j+1, i)) for j in range(n_vars)]\n",
    "    # forecast sequence (t, t+1, ...t+n)\n",
    "    for i in range(0, n_out):\n",
    "        cols.append(df.shift(-i))\n",
    "        if i == 0:\n",
    "            names += [('var%d(t)' % (j+1)) for j in range(n_vars)]\n",
    "        else:\n",
    "            names += [('var%d(t+%d)' % (j+1, i)) for j in range(n_vars)]\n",
    "    # put it all together\n",
    "    agg = concat(cols, axis = 1)\n",
    "    agg.columns = names\n",
    "    # drop rows with NaN values\n",
    "    if dropnan:\n",
    "        agg.dropna(inplace = True)\n",
    "    return agg"
   ]
  },
  {
   "cell_type": "code",
   "execution_count": 6,
   "metadata": {
    "collapsed": true
   },
   "outputs": [],
   "source": [
    "# frame a sequence as a supervised learning problem\n",
    "def timeseries_to_supervised(data, lag=1):\n",
    "    df = DataFrame(data)\n",
    "    columns = [df.shift(i) for i in range(1, lag+1)]\n",
    "    columns.append(df)\n",
    "    df = concat(columns, axis=1)\n",
    "    return df"
   ]
  },
  {
   "cell_type": "code",
   "execution_count": 7,
   "metadata": {
    "collapsed": true
   },
   "outputs": [],
   "source": [
    "# create a differenced series\n",
    "def difference(dataset, interval=1):\n",
    "    diff = list()\n",
    "    for i in range(interval, len(dataset)):\n",
    "        value = dataset[i] - dataset[i - interval]\n",
    "        diff.append(value)\n",
    "    return Series(diff)"
   ]
  },
  {
   "cell_type": "code",
   "execution_count": 57,
   "metadata": {
    "collapsed": true
   },
   "outputs": [],
   "source": [
    "# scale train and test data to [-1, 1]\n",
    "def scale(train, test, verbose=False):\n",
    "    if verbose:\n",
    "        print(\"type of train : \", type(train))\n",
    "        print(\"shape of train : \", train.shape)       \n",
    "    # fit scaler\n",
    "    scaler = MinMaxScaler(feature_range=(-1,1))\n",
    "    scaler = scaler.fit(train)\n",
    "    # transform train\n",
    "    row = train.shape[0]\n",
    "    col = train.shape[1]\n",
    "    train = train.reshape(row, col)\n",
    "    #train = train.reshape(train.shape[0], train.shape[1])\n",
    "    train_scaled = scaler.transform(train)\n",
    "    # transform test\n",
    "    test = test.reshape(test.shape[0], test.shape[1])\n",
    "    test_scaled = scaler.transform(test)\n",
    "    return scaler, train_scaled, test_scaled"
   ]
  },
  {
   "cell_type": "code",
   "execution_count": 58,
   "metadata": {
    "collapsed": true
   },
   "outputs": [],
   "source": [
    "# inverse scaling for a forecasted value\n",
    "def invert_scale(scaler, X, yhat, verbose=False):\n",
    "    new_row = [x for x in X] + [yhat]\n",
    "    array = numpy.array(new_row)\n",
    "    array = array.reshape(1, len(array))\n",
    "    inverted = scaler.inverse_transform(array)\n",
    "    if verbose:\n",
    "        print(\"new_row: \", new_row)\n",
    "        print(\"array: \", array)\n",
    "        print(\"inverted: \", inverted)\n",
    "    return inverted[0, -1]"
   ]
  },
  {
   "cell_type": "code",
   "execution_count": 59,
   "metadata": {
    "collapsed": true
   },
   "outputs": [],
   "source": [
    "# fit an MLP network to training data\n",
    "def fit_model(train, batch_size, nb_epoch, neurons, verbose=False):\n",
    "    if verbose:\n",
    "        print(\"train: \\n\", train)\n",
    "        print(\"batch_size: \\n\", batch_size)   \n",
    "        print(\"nb_epoch: \\n\", nb_epoch)   \n",
    "        print(\"neurons: \\n\", neurons)           \n",
    "    X, y = train[:, 0:-1], train[:, -1]\n",
    "    model = Sequential()\n",
    "    model.add(Dense(neurons, activation='relu', input_dim=X.shape[1]))\n",
    "    model.add(Dense(1))\n",
    "    model.compile(loss='mean_squared_error', optimizer='adam')\n",
    "    model.fit(X,y, epochs=nb_epoch, batch_size=batch_size, verbose=0, shuffle=False)\n",
    "    return model"
   ]
  },
  {
   "cell_type": "markdown",
   "metadata": {},
   "source": [
    "<h2>2.2. Check a value validation</h2>"
   ]
  },
  {
   "cell_type": "markdown",
   "metadata": {},
   "source": [
    "<h2>2.3. Model functions</h2>"
   ]
  },
  {
   "cell_type": "code",
   "execution_count": 60,
   "metadata": {
    "collapsed": false
   },
   "outputs": [],
   "source": [
    "import pandas as pd\n",
    "def save_csv_file(data, filename=\"../debug/df.csv\"):\n",
    "    #print(\"type is :\", type(data))\n",
    "    if (type(data) is Series):\n",
    "        df = pd.DataFrame(data.values.reshape(-1,1))\n",
    "    elif (type(data) is numpy.ndarray):\n",
    "        df = pd.DataFrame(data)\n",
    "    elif (type(data) is list):\n",
    "        df = pd.DataFrame(data)\n",
    "    elif(type(data) is pd.DataFrame):\n",
    "        df = data\n",
    "    else:\n",
    "        print(\" data is not either Series or numpy.array\")\n",
    "        return None\n",
    "    df.to_csv(filename)"
   ]
  },
  {
   "cell_type": "code",
   "execution_count": 61,
   "metadata": {
    "collapsed": true
   },
   "outputs": [],
   "source": [
    "def make_supervised_feature(data, lag, kind=\"train\",verbose=False):\n",
    "    raw_values = data\n",
    "    diff_values = difference(raw_values,1) # 1 means subtraction from the previous element\n",
    "    # transform data to be supervised learning\n",
    "    supervised = timeseries_to_supervised(diff_values, lag)\n",
    "    supervised_values = supervised.values[lag:, :]\n",
    "    if verbose:\n",
    "        if kind == \"train\":\n",
    "            save_csv_file(raw_values, \"../debug/train_raw_values.csv\")\n",
    "            save_csv_file(diff_values, \"../debug/train_diff_values.csv\")\n",
    "            save_csv_file(supervised, \"../debug/train_supervised.csv\")   \n",
    "            save_csv_file(supervised_values, \"../debug/train_supervised_values.csv\")\n",
    "        else:\n",
    "            save_csv_file(raw_values, \"../debug/test_raw_values.csv\")\n",
    "            save_csv_file(diff_values, \"../debug/test_diff_values.csv\")\n",
    "            save_csv_file(supervised, \"../debug/test_supervised.csv\")   \n",
    "            save_csv_file(supervised_values, \"../debug/test_supervised_values.csv\")\n",
    "\n",
    "            \n",
    "    return supervised_values"
   ]
  },
  {
   "cell_type": "code",
   "execution_count": 62,
   "metadata": {
    "collapsed": true
   },
   "outputs": [],
   "source": [
    "# invert differenced value\n",
    "def inverse_difference(history, invert_output, interval=1, verbose=False):\n",
    "    raw_item = history[-interval]        \n",
    "    predict_item = invert_output + raw_item\n",
    "    return predict_item, invert_output, raw_item"
   ]
  },
  {
   "cell_type": "code",
   "execution_count": 63,
   "metadata": {
    "collapsed": true
   },
   "outputs": [],
   "source": [
    "def convert_prediction(scaler, output, test_scaled, raw_values, verbose=False):\n",
    "    prediction_list = list()\n",
    "    invert_output_list = list()\n",
    "    raw_list = list()\n",
    "    for i in range(len(output)):\n",
    "        output_item = output[i,0]\n",
    "        X = test_scaled[i, 0:-1]\n",
    "        # invert scaling\n",
    "        invert_output = invert_scale(scaler, X, output_item)\n",
    "        # invert differencing\n",
    "        # predict_item = invert_output + raw_diff\n",
    "        predict_item, invert_output, raw_item  = inverse_difference(raw_values, invert_output, len(test_scaled)+1-i)\n",
    "        # store forecast\n",
    "        prediction_list.append(predict_item)\n",
    "        invert_output_list.append(invert_output)\n",
    "        raw_list.append(raw_item)\n",
    "    return prediction_list, invert_output_list, raw_list"
   ]
  },
  {
   "cell_type": "code",
   "execution_count": 95,
   "metadata": {
    "collapsed": false
   },
   "outputs": [],
   "source": [
    "# run a repeated experiment\n",
    "def experiment(repeats, epochs, neurons, scaler, series, train_scaled, test_scaled, train_size, batch_size=4, verbose=False):\n",
    "    ##train_trimmed = train_scaled[2:, :]\n",
    "    error_scores = list()\n",
    "    raw_values = series.values\n",
    "        \n",
    "    for r in range(repeats):\n",
    "        # fit the model\n",
    "        model = fit_model(train_scaled, batch_size, epochs, neurons)\n",
    "        # forecast test dataset\n",
    "        test_reshaped = test_scaled[:, 0:-1] # Only extract X not y\n",
    "        output = model.predict(test_reshaped, batch_size=batch_size)\n",
    "        # Recover original value\n",
    "        predictions, invert_output_list, raw_list = convert_prediction(scaler, output, test_scaled, raw_values, verbose=True)\n",
    "        # report performance\n",
    "        #print(\"predictions len: \", len(predictions))\n",
    "        #print(\"raw values len:\", len(raw_values[train_size:]))\n",
    "        len_prediction= len(predictions) + 1\n",
    "        print(\"len_prediction: \", len_prediction)\n",
    "        true_values = raw_values[-len_prediction:-1]\n",
    "        #print(\"true values len: \", len(true_values))\n",
    "        #print(\"predictions len: \", len(predictions))        \n",
    "        #print(true_values, \"\\n\")\n",
    "        #print(predictions)\n",
    "        rmse = sqrt(mean_squared_error(true_values, predictions))\n",
    "        print('%d) Test RMSE: %.3f' % (r+1, rmse))\n",
    "        error_scores.append(rmse)\n",
    "        \n",
    "        if verbose:\n",
    "            save_csv_file(output, \"../debug/output.csv\")\n",
    "            save_csv_file(true_values, \"../debug/true_values.csv\")\n",
    "            save_csv_file(predictions, \"../debug/predictions.csv\")            \n",
    "            save_csv_file(invert_output_list, \"../debug/invert_output_list.csv\")        \n",
    "            save_csv_file(raw_list, \"../debug/raw_list.csv\")                \n",
    "        \n",
    "    return error_scores"
   ]
  },
  {
   "cell_type": "code",
   "execution_count": 102,
   "metadata": {
    "collapsed": true
   },
   "outputs": [],
   "source": [
    "#########################\n",
    "# Parameters\n",
    "#########################\n",
    "TRAIN_SIZE = 21\n",
    "REPEATS = 5\n",
    "LAG = 1\n",
    "NEURONS = 1\n",
    "EPOCHS = [5, 10, 15, 20, 25]\n",
    "BATCH_SIZE = 4"
   ]
  },
  {
   "cell_type": "code",
   "execution_count": 103,
   "metadata": {
    "collapsed": false
   },
   "outputs": [
    {
     "name": "stdout",
     "output_type": "stream",
     "text": [
      "train len:  21\n",
      "test len:  15\n",
      "train_supervised_values len:  19\n",
      "test_supervised_values len:  13\n"
     ]
    }
   ],
   "source": [
    "#########################\n",
    "# Prepare for Input\n",
    "#########################\n",
    "# split data into train and test-sets\n",
    "train, test = series.values[0:TRAIN_SIZE], series.values[TRAIN_SIZE:]\n",
    "print(\"train len: \", len(train))\n",
    "print(\"test len: \", len(test))\n",
    "train_supervised_values = make_supervised_feature(train, LAG, kind=\"train\", verbose=True)\n",
    "test_supervised_values = make_supervised_feature(test, LAG, kind=\"test\", verbose=True)\n",
    "print(\"train_supervised_values len: \", len(train_supervised_values))\n",
    "print(\"test_supervised_values len: \", len(test_supervised_values))\n",
    "\n",
    "# transform the scale of the data\n",
    "scaler, train_scaled, test_scaled = scale(train_supervised_values, test_supervised_values, verbose=False)\n",
    "save_csv_file(train_scaled, \"../debug/train_scaled.csv\")\n",
    "save_csv_file(test_scaled, \"../debug/test_scaled.csv\")\n"
   ]
  },
  {
   "cell_type": "code",
   "execution_count": 104,
   "metadata": {
    "collapsed": false
   },
   "outputs": [
    {
     "name": "stdout",
     "output_type": "stream",
     "text": [
      "len_prediction:  14\n",
      "1) Test RMSE: 42.736\n",
      "len_prediction:  14\n",
      "2) Test RMSE: 23.448\n",
      "len_prediction:  14\n",
      "3) Test RMSE: 71.791\n",
      "len_prediction:  14\n",
      "4) Test RMSE: 26.920\n",
      "len_prediction:  14\n",
      "5) Test RMSE: 72.587\n",
      "len_prediction:  14\n",
      "1) Test RMSE: 31.536\n",
      "len_prediction:  14\n",
      "2) Test RMSE: 92.586\n",
      "len_prediction:  14\n",
      "3) Test RMSE: 83.049\n",
      "len_prediction:  14\n",
      "4) Test RMSE: 44.011\n",
      "len_prediction:  14\n",
      "5) Test RMSE: 153.887\n",
      "len_prediction:  14\n",
      "1) Test RMSE: 57.996\n",
      "len_prediction:  14\n",
      "2) Test RMSE: 82.897\n",
      "len_prediction:  14\n",
      "3) Test RMSE: 41.104\n",
      "len_prediction:  14\n",
      "4) Test RMSE: 54.375\n",
      "len_prediction:  14\n",
      "5) Test RMSE: 76.024\n",
      "len_prediction:  14\n",
      "1) Test RMSE: 143.245\n",
      "len_prediction:  14\n",
      "2) Test RMSE: 119.384\n",
      "len_prediction:  14\n",
      "3) Test RMSE: 21.933\n",
      "len_prediction:  14\n",
      "4) Test RMSE: 67.566\n",
      "len_prediction:  14\n",
      "5) Test RMSE: 20.273\n",
      "len_prediction:  14\n",
      "1) Test RMSE: 32.981\n",
      "len_prediction:  14\n",
      "2) Test RMSE: 16.380\n",
      "len_prediction:  14\n",
      "3) Test RMSE: 13.351\n",
      "len_prediction:  14\n",
      "4) Test RMSE: 24.870\n",
      "len_prediction:  14\n",
      "5) Test RMSE: 13.900\n",
      "               5          10         15          20         25\n",
      "count   5.000000    5.000000   5.000000    5.000000   5.000000\n",
      "mean   47.496032   81.013800  62.479112   74.480371  20.296371\n",
      "std    23.686083   48.129468  16.904083   55.884661   8.460138\n",
      "min    23.447801   31.535690  41.104385   20.273302  13.351131\n",
      "25%    26.919625   44.011475  54.374583   21.933003  13.900295\n",
      "50%    42.735681   83.048687  57.996186   67.566380  16.379932\n",
      "75%    71.790542   92.586444  76.023765  119.383745  24.869635\n",
      "max    72.586510  153.886707  82.896641  143.245426  32.980863\n"
     ]
    },
    {
     "data": {
      "image/png": "[encoded data removed]",
      "text/plain": [
       "<matplotlib.figure.Figure at 0x12fa21da0>"
      ]
     },
     "metadata": {},
     "output_type": "display_data"
    }
   ],
   "source": [
    "\n",
    "#########################\n",
    "# Experiment\n",
    "#########################\n",
    "results = DataFrame()\n",
    "\n",
    "for e in EPOCHS:\n",
    "    results[str(e)] = experiment(REPEATS, e, NEURONS, scaler, series, \n",
    "                                 train_scaled, test_scaled, TRAIN_SIZE, BATCH_SIZE, verbose=True )\n",
    "#########################\n",
    "# Results\n",
    "#########################, ver\n",
    "# summarize results of RMSE\n",
    "print(results.describe())\n",
    "# save boxplot\n",
    "results.boxplot()\n",
    "pyplot.show()\n"
   ]
  },
  {
   "cell_type": "code",
   "execution_count": null,
   "metadata": {
    "collapsed": true
   },
   "outputs": [],
   "source": []
  },
  {
   "cell_type": "code",
   "execution_count": 6,
   "metadata": {
    "collapsed": true
   },
   "outputs": [],
   "source": [
    "# run a repeated experiment\n",
    "def experiment(repeats, series, epochs, lag, neurons):\n",
    "    # transforms data to be stationary\n",
    "    raw_values = series.values\n",
    "    diff_values = difference(raw_values, 1)\n",
    "    # split data into train and test-sets\n",
    "    train, test = supervised_values[0:-12], supervised_values[-12:]\n",
    "    # transform the scale of the data\n",
    "    scaler, train_scaled, test_scaled = scale(train, test)\n",
    "    # run experiment\n",
    "    error_scores = list()\n",
    "    for r in range(repeats):\n",
    "        # fit the model\n",
    "        batch_size = 4\n",
    "        train_trimmed = train_scaled[2:, :]\n",
    "        model = fit_model(train_trimmed, batch_size, epochs, neurons)\n",
    "        # forecast test dataset\n",
    "        test_reshaped = test_scaled[:, 0:-1]\n",
    "        output = model.predict(test_reshaped, batch_size=batch_size)\n",
    "        predictions = list()\n",
    "        for i in range(len(output)):\n",
    "            yhat = output[i,0]\n",
    "            X = test_scaled[i, 0:-1]\n",
    "            # invert scaling\n",
    "            yhat = invert_scale(scaler, X, yhat)\n",
    "            # invert differencing\n",
    "            yhat = inverse_difference(raw_values, yhat, len(test_scaled)+1-i)\n",
    "            # store forecast\n",
    "            predictions.append(yhat)\n",
    "        # report performance\n",
    "        rmse = sqrt(mean_squared_error(raw_values[-12:], predictions))\n",
    "        print('%d) Test RMSE: %.3f' % (r+1, rmse))\n",
    "        error_scores.append(rmse)\n",
    "    return error_scores\n",
    "\n"
   ]
  },
  {
   "cell_type": "code",
   "execution_count": null,
   "metadata": {
    "collapsed": true
   },
   "outputs": [],
   "source": []
  },
  {
   "cell_type": "code",
   "execution_count": null,
   "metadata": {
    "collapsed": true
   },
   "outputs": [],
   "source": []
  },
  {
   "cell_type": "code",
   "execution_count": 7,
   "metadata": {
    "collapsed": false
   },
   "outputs": [
    {
     "name": "stdout",
     "output_type": "stream",
     "text": [
      "1) Test RMSE: 217.761\n",
      "2) Test RMSE: 123.236\n",
      "3) Test RMSE: 106.464\n",
      "1) Test RMSE: 164.390\n",
      "2) Test RMSE: 218.534\n",
      "3) Test RMSE: 336.083\n",
      "1) Test RMSE: 179.616\n",
      "2) Test RMSE: 115.651\n",
      "3) Test RMSE: 132.551\n",
      "1) Test RMSE: 106.824\n",
      "2) Test RMSE: 138.092\n",
      "3) Test RMSE: 132.205\n",
      "1) Test RMSE: 121.832\n",
      "2) Test RMSE: 185.314\n",
      "3) Test RMSE: 211.968\n",
      "                3           5          10          15          20\n",
      "count    3.000000    3.000000    3.000000    3.000000    3.000000\n",
      "mean   149.153533  239.668793  142.606055  125.706859  173.037870\n",
      "std     60.004511   87.776331   33.146746   16.616023   46.305158\n",
      "min    106.464069  164.389557  115.651436  106.823757  121.831750\n",
      "25%    114.849892  191.461650  124.100996  119.514387  153.572678\n",
      "50%    123.235716  218.533742  132.550555  132.205017  185.313606\n",
      "75%    170.498265  277.308412  156.083365  135.148411  198.640930\n",
      "max    217.760815  336.083081  179.616175  138.091804  211.968255\n"
     ]
    },
    {
     "data": {
      "image/png": "[encoded data removed]",
      "text/plain": [
       "<matplotlib.figure.Figure at 0x11d3ba1d0>"
      ]
     },
     "metadata": {},
     "output_type": "display_data"
    }
   ],
   "source": [
    "# experiment\n",
    "#repeats = 30\n",
    "repeats = 3\n",
    "results = DataFrame()\n",
    "lag = 1\n",
    "neurons = 1\n",
    "# vary training epochs\n",
    "# epochs = [50, 100, 500, 1000, 2000]\n",
    "epochs = [3, 5, 10, 15, 20]\n",
    "for e in epochs:\n",
    "    results[str(e)] = experiment(repeats, series, e, lag, neurons)\n",
    "# summarize results\n",
    "print(results.describe())\n",
    "# save boxplot\n",
    "results.boxplot()\n",
    "pyplot.show()"
   ]
  },
  {
   "cell_type": "code",
   "execution_count": 8,
   "metadata": {
    "collapsed": false
   },
   "outputs": [],
   "source": [
    "# evaluate the model on a dataset, returns RMSE in transformed units\n",
    "def evaluate(model, raw_data, scaled_dataset, scaler, offset, batch_size):\n",
    "    # separate\n",
    "    X, y = scaled_dataset[:,0:-1], scaled_dataset[:, -1]\n",
    "    # forecast dataset\n",
    "    output = model.predict(X, batch_size=batch_size)\n",
    "    # invert data transforms on forecast\n",
    "    predictions = list()\n",
    "    for i in range(len(output)):\n",
    "        yhat = output[i,0]\n",
    "        # invert scaling\n",
    "        yhat = invert_scale(scaler, X[i], yhat)\n",
    "        # invert differencing\n",
    "        yhat = yhat + raw_data[i]\n",
    "        # store forecast\n",
    "        predictions.append(yhat)\n",
    "    # report performance\n",
    "    rmse = sqrt(mean_squared_error(raw_data[1:], predictions))\n",
    "    return rmse\n",
    "\n",
    "# fit an MLP network to training data\n",
    "def fit(train, test, raw, scaler, batch_size, nb_epoch, neurons):\n",
    "    X, y = train[:, 0:-1], train[:, -1]\n",
    "    # prepare model\n",
    "    model = Sequential()\n",
    "    model.add(Dense(neurons, activation='relu', input_dim=X.shape[1]))\n",
    "    model.add(Dense(1))\n",
    "    model.compile(loss='mean_squared_error', optimizer='adam')\n",
    "    # fit model\n",
    "    train_rmse, test_rmse = list(), list()\n",
    "    for i in range(nb_epoch):\n",
    "        model.fit(X, y, epochs=1, batch_size=batch_size, verbose=0, shuffle=False)\n",
    "        # evaluate model on train data\n",
    "        raw_train = raw[-(len(train)+len(test)+1):-len(test)]\n",
    "        train_rmse.append(evaluate(model, raw_train, train, scaler, 0, batch_size))\n",
    "        # evaluate model on test data\n",
    "        raw_test = raw[-(len(test)+1):]\n",
    "        test_rmse.append(evaluate(model, raw_test, test, scaler, 0, batch_size))\n",
    "    history = DataFrame()\n",
    "    history['train'], history['test'] = train_rmse, test_rmse\n",
    "    return history\n",
    "\n"
   ]
  },
  {
   "cell_type": "code",
   "execution_count": 9,
   "metadata": {
    "collapsed": true
   },
   "outputs": [],
   "source": [
    "# run diagnostic experiments\n",
    "def run(series):\n",
    "    #repeats = 10\n",
    "    repeats = 3\n",
    "    n_batch = 4\n",
    "    #n_epochs = 1000\n",
    "    n_epochs = 1000\n",
    "    n_neurons = 1\n",
    "    n_lag = 1\n",
    "    # transform data to be stationary\n",
    "    raw_values = series.values\n",
    "    diff_values = difference(raw_values, 1)\n",
    "    supervised = timeseries_to_supervised(diff_values, n_lag)\n",
    "    supervised_values = supervised.values[n_lag:, :]\n",
    "    train, test = supervised_values[0:-12], supervised_values[-12:]\n",
    "    scaler, train_scaled, test_scaled = scale(train, test)\n",
    "    train_trimmed = train_scaled[2:, :]\n",
    "    for i in range(repeats):\n",
    "        history = fit(train_trimmed, test_scaled, raw_values, scaler, n_batch, n_epochs,n_neurons )\n",
    "        pyplot.plot(history['train'], color='blue')\n",
    "        pyplot.plot(history['test'], color = 'orange')\n",
    "        print('%d) TrainRMSE=%f, TestRMSE=%f' % (i, history['train'].iloc[-1], history['test'].iloc[-1]))\n",
    "    pyplot.show()\n",
    "        "
   ]
  },
  {
   "cell_type": "code",
   "execution_count": 10,
   "metadata": {
    "collapsed": false
   },
   "outputs": [
    {
     "name": "stdout",
     "output_type": "stream",
     "text": [
      "0) TrainRMSE=90.341007, TestRMSE=137.459028\n",
      "1) TrainRMSE=60.287184, TestRMSE=90.118840\n",
      "2) TrainRMSE=90.341007, TestRMSE=138.148449\n"
     ]
    },
    {
     "data": {
      "image/png": "[encoded data removed]",
      "text/plain": [
       "<matplotlib.figure.Figure at 0x11e744828>"
      ]
     },
     "metadata": {},
     "output_type": "display_data"
    }
   ],
   "source": [
    "run(series)"
   ]
  },
  {
   "cell_type": "markdown",
   "metadata": {},
   "source": [
    "<h2>Vary Hidden Layer Neurons</h2>"
   ]
  },
  {
   "cell_type": "code",
   "execution_count": 11,
   "metadata": {
    "collapsed": false
   },
   "outputs": [
    {
     "name": "stdout",
     "output_type": "stream",
     "text": [
      "1) Test RMSE: 154.460\n",
      "2) Test RMSE: 114.029\n",
      "3) Test RMSE: 189.848\n",
      "1) Test RMSE: 107.871\n",
      "2) Test RMSE: 123.879\n",
      "3) Test RMSE: 135.805\n",
      "1) Test RMSE: 85.153\n",
      "2) Test RMSE: 103.787\n",
      "3) Test RMSE: 146.205\n",
      "1) Test RMSE: 106.733\n",
      "2) Test RMSE: 99.073\n",
      "3) Test RMSE: 111.472\n",
      "1) Test RMSE: 92.780\n",
      "2) Test RMSE: 104.132\n",
      "3) Test RMSE: 95.642\n",
      "                1           2           3           4           5\n",
      "count    3.000000    3.000000    3.000000    3.000000    3.000000\n",
      "mean   152.779153  122.518091  111.715232  105.759561   97.518206\n",
      "std     37.937369   14.016683   31.288284    6.256597    5.904191\n",
      "min    114.029270  107.870735   85.153418   99.073182   92.780041\n",
      "25%    134.244665  115.874699   94.470426  102.903245   94.211059\n",
      "50%    154.460061  123.878663  103.787434  106.733307   95.642078\n",
      "75%    172.154095  129.841769  124.996140  109.102750   99.887289\n",
      "max    189.848129  135.804875  146.204845  111.472193  104.132499\n"
     ]
    },
    {
     "data": {
      "image/png": "[encoded data removed]",
      "text/plain": [
       "<matplotlib.figure.Figure at 0x12108bf28>"
      ]
     },
     "metadata": {},
     "output_type": "display_data"
    }
   ],
   "source": [
    "# experiment\n",
    "#repeats = 30\n",
    "repeats = 3\n",
    "results = DataFrame()\n",
    "lag = 1\n",
    "#epochs = 1000\n",
    "epochs = 100\n",
    "neurons = [1, 2, 3, 4, 5]\n",
    "for n in neurons:\n",
    "    results[str(n)] = experiment(repeats, series, epochs, lag, n)\n",
    "print(results.describe())\n",
    "results.boxplot()\n",
    "pyplot.show()"
   ]
  },
  {
   "cell_type": "code",
   "execution_count": 17,
   "metadata": {
    "collapsed": false
   },
   "outputs": [],
   "source": [
    "def run(series):\n",
    "\t# config\n",
    "\t#repeats = 10\n",
    "    repeats = 3\n",
    "    n_batch = 4\n",
    "    n_epochs = 1000\n",
    "    n_neurons = 3\n",
    "    n_lag = 1\n",
    "    # transform data to be stationary\n",
    "    raw_values = series.values\n",
    "    diff_values = difference(raw_values, 1)\n",
    "    # transform data to be supervised learning\n",
    "    supervised = timeseries_to_supervised(diff_values, n_lag)\n",
    "    supervised_values = supervised.values[n_lag:,:]\n",
    "    # split data into train and test-sets\n",
    "    train, test = supervised_values[0:-12], supervised_values[-12:]\n",
    "    # transform the scale of the data\n",
    "    scaler, train_scaled, test_scaled = scale(train, test)\n",
    "    # fit and evaluate model\n",
    "    train_trimmed = train_scaled[2:, :]\n",
    "    # run diagnostic tests\n",
    "    for i in range(repeats):\n",
    "        history = fit(train_trimmed, test_scaled, raw_values, scaler, n_batch, n_epochs, n_neurons)\n",
    "        pyplot.plot(history['train'], color='blue')\n",
    "        pyplot.plot(history['test'], color='orange')\n",
    "        print('%d) TrainRMSE=%f, TestRMSE=%f' % (i, history['train'].iloc[-1], history['test'].iloc[-1]))\n",
    "    pyplot.show()"
   ]
  },
  {
   "cell_type": "code",
   "execution_count": 18,
   "metadata": {
    "collapsed": false
   },
   "outputs": [
    {
     "name": "stdout",
     "output_type": "stream",
     "text": [
      "0) TrainRMSE=60.233537, TestRMSE=93.515132\n",
      "1) TrainRMSE=60.113774, TestRMSE=93.939950\n",
      "2) TrainRMSE=62.563601, TestRMSE=92.644076\n"
     ]
    },
    {
     "data": {
      "image/png": "[encoded data removed]",
      "text/plain": [
       "<matplotlib.figure.Figure at 0x127105a90>"
      ]
     },
     "metadata": {},
     "output_type": "display_data"
    }
   ],
   "source": [
    "run(series)"
   ]
  },
  {
   "cell_type": "markdown",
   "metadata": {},
   "source": [
    "<h2>Vary Hidden Layer Neurons with Lag</h2>"
   ]
  },
  {
   "cell_type": "code",
   "execution_count": 15,
   "metadata": {
    "collapsed": false
   },
   "outputs": [
    {
     "name": "stdout",
     "output_type": "stream",
     "text": [
      "1) Test RMSE: 92.950\n",
      "2) Test RMSE: 90.058\n",
      "3) Test RMSE: 140.001\n",
      "1) Test RMSE: 106.490\n",
      "2) Test RMSE: 92.587\n",
      "3) Test RMSE: 106.165\n",
      "1) Test RMSE: 124.824\n",
      "2) Test RMSE: 102.002\n",
      "3) Test RMSE: 140.817\n",
      "1) Test RMSE: 127.713\n",
      "2) Test RMSE: 136.673\n",
      "3) Test RMSE: 98.746\n",
      "                1           3           5           7\n",
      "count    3.000000    3.000000    3.000000    3.000000\n",
      "mean   107.669752  101.747423  122.547506  121.043835\n",
      "std     28.037299    7.934664   19.507515   19.823646\n",
      "min     90.057731   92.587176  102.001572   98.745579\n",
      "25%     91.503959   99.376281  113.412847  113.229418\n",
      "50%     92.950187  106.165385  124.824122  127.713256\n",
      "75%    116.475762  106.327547  132.820472  132.192963\n",
      "max    140.001338  106.489708  140.816822  136.672670\n"
     ]
    },
    {
     "data": {
      "image/png": "[encoded data removed]",
      "text/plain": [
       "<matplotlib.figure.Figure at 0x12780e0f0>"
      ]
     },
     "metadata": {},
     "output_type": "display_data"
    }
   ],
   "source": [
    "#repeats = 30\n",
    "repeats = 3\n",
    "results = DataFrame()\n",
    "epochs = 1000\n",
    "# vary neurons\n",
    "neurons = [1, 3, 5, 7]\n",
    "for n in neurons:\n",
    "\tresults[str(n)] = experiment(repeats, series, epochs, n, n)\n",
    "# summarize results\n",
    "print(results.describe())\n",
    "# save boxplot\n",
    "results.boxplot()\n",
    "pyplot.show()"
   ]
  },
  {
   "cell_type": "code",
   "execution_count": 22,
   "metadata": {
    "collapsed": true
   },
   "outputs": [],
   "source": [
    "def run(series):\n",
    "\t# config\n",
    "\trepeats = 3\n",
    "\tn_batch = 2\n",
    "\tn_epochs = 1000\n",
    "\tn_neurons = 3\n",
    "\tn_lag = 3\n",
    "\t# load dataset\n",
    "\t# transform data to be stationary\n",
    "\traw_values = series.values\n",
    "\tdiff_values = difference(raw_values, 1)\n",
    "\t# transform data to be supervised learning\n",
    "\tsupervised = timeseries_to_supervised(diff_values, n_lag)\n",
    "\tsupervised_values = supervised.values[n_lag:,:]\n",
    "\t# split data into train and test-sets\n",
    "\ttrain, test = supervised_values[0:-12], supervised_values[-12:]\n",
    "\t# transform the scale of the data\n",
    "\tscaler, train_scaled, test_scaled = scale(train, test)\n",
    "\t# fit and evaluate model\n",
    "\ttrain_trimmed = train_scaled[2:, :]\n",
    "\t# run diagnostic tests\n",
    "\tfor i in range(repeats):\n",
    "\t\thistory = fit(train_trimmed, test_scaled, raw_values, scaler, n_batch, n_epochs, n_neurons)\n",
    "\t\tpyplot.plot(history['train'], color='blue')\n",
    "\t\tpyplot.plot(history['test'], color='orange')\n",
    "\t\tprint('%d) TrainRMSE=%f, TestRMSE=%f' % (i, history['train'].iloc[-1], history['test'].iloc[-1]))\n",
    "\tpyplot.show()"
   ]
  },
  {
   "cell_type": "code",
   "execution_count": 23,
   "metadata": {
    "collapsed": false
   },
   "outputs": [
    {
     "name": "stdout",
     "output_type": "stream",
     "text": [
      "0) TrainRMSE=56.908709, TestRMSE=82.331581\n",
      "1) TrainRMSE=59.196322, TestRMSE=97.369186\n",
      "2) TrainRMSE=46.752683, TestRMSE=115.719681\n"
     ]
    },
    {
     "data": {
      "image/png": "[encoded data removed]",
      "text/plain": [
       "<matplotlib.figure.Figure at 0x127036898>"
      ]
     },
     "metadata": {},
     "output_type": "display_data"
    }
   ],
   "source": [
    "run(series)"
   ]
  },
  {
   "cell_type": "code",
   "execution_count": null,
   "metadata": {
    "collapsed": true
   },
   "outputs": [],
   "source": []
  }
 ],
 "metadata": {
  "kernelspec": {
   "display_name": "Python 3",
   "language": "python",
   "name": "python3"
  },
  "language_info": {
   "codemirror_mode": {
    "name": "ipython",
    "version": 3
   },
   "file_extension": ".py",
   "mimetype": "text/x-python",
   "name": "python",
   "nbconvert_exporter": "python",
   "pygments_lexer": "ipython3",
   "version": "3.6.0"
  }
 },
 "nbformat": 4,
 "nbformat_minor": 2
}
