{
 "cells": [
  {
   "cell_type": "markdown",
   "metadata": {},
   "source": [
    "<h1>How to Convert a Time Series to a Supervised Learning Problem in Python</h1><br>\n",
    "https://machinelearningmastery.com/convert-time-series-supervised-learning-problem-python/"
   ]
  },
  {
   "cell_type": "markdown",
   "metadata": {},
   "source": [
    "<h2> Pandas shift()"
   ]
  },
  {
   "cell_type": "code",
   "execution_count": 4,
   "metadata": {
    "collapsed": false
   },
   "outputs": [
    {
     "name": "stdout",
     "output_type": "stream",
     "text": [
      "   t  t-1  t+1\n",
      "0  0  NaN  1.0\n",
      "1  1  0.0  2.0\n",
      "2  2  1.0  3.0\n",
      "3  3  2.0  4.0\n",
      "4  4  3.0  5.0\n",
      "5  5  4.0  6.0\n",
      "6  6  5.0  7.0\n",
      "7  7  6.0  8.0\n",
      "8  8  7.0  9.0\n",
      "9  9  8.0  NaN\n"
     ]
    }
   ],
   "source": [
    "from pandas import DataFrame\n",
    "df = DataFrame()\n",
    "df['t'] = [x for x in range(10)]\n",
    "df['t-1'] = df['t'].shift(1)\n",
    "df['t+1'] = df['t'].shift(-1)\n",
    "print(df)"
   ]
  },
  {
   "cell_type": "code",
   "execution_count": 10,
   "metadata": {
    "collapsed": false
   },
   "outputs": [],
   "source": [
    "from pandas import DataFrame\n",
    "from pandas import concat\n",
    "\n",
    "def series_to_supervised(data, n_in = 1, n_out = 1, dropnan=True):\n",
    "    \"\"\"\n",
    "\tFrame a time series as a supervised learning dataset.\n",
    "\tArguments:\n",
    "\t\tdata: Sequence of observations as a list or NumPy array.\n",
    "\t\tn_in: Number of lag observations as input (X).\n",
    "\t\tn_out: Number of observations as output (y).\n",
    "\t\tdropnan: Boolean whether or not to drop rows with NaN values.\n",
    "\tReturns:\n",
    "\t\tPandas DataFrame of series framed for supervised learning.\n",
    "    \"\"\"\n",
    "    n_vars = 1 if type(data) is list else data.shape[1]\n",
    "    df = DataFrame(data)\n",
    "    cols, names = list(), list()\n",
    "    # input sequence (t-n, ... , t-1)\n",
    "    for i in range(n_in, 0, -1):\n",
    "        cols.append(df.shift(i))\n",
    "        names += [('var%d(t-%d)' % (j+1, i)) for j in range(n_vars)]\n",
    "    # forecast sequence (t, t+1, ...t+n)\n",
    "    for i in range(0, n_out):\n",
    "        cols.append(df.shift(-i))\n",
    "        if i == 0:\n",
    "            names += [('var%d(t)' % (j+1)) for j in range(n_vars)]\n",
    "        else:\n",
    "            names += [('var%d(t+%d)' % (j+1, i)) for j in range(n_vars)]\n",
    "    # put it all together\n",
    "    agg = concat(cols, axis = 1)\n",
    "    agg.columns = names\n",
    "    # drop rows with NaN values\n",
    "    if dropnan:\n",
    "        agg.dropna(inplace = True)\n",
    "    return agg"
   ]
  },
  {
   "cell_type": "code",
   "execution_count": 11,
   "metadata": {
    "collapsed": false
   },
   "outputs": [
    {
     "name": "stdout",
     "output_type": "stream",
     "text": [
      "   var1(t-1)  var1(t)\n",
      "1        0.0        1\n",
      "2        1.0        2\n",
      "3        2.0        3\n",
      "4        3.0        4\n",
      "5        4.0        5\n",
      "6        5.0        6\n",
      "7        6.0        7\n",
      "8        7.0        8\n",
      "9        8.0        9\n"
     ]
    }
   ],
   "source": [
    "values = [x for x in range(10)]\n",
    "data = series_to_supervised(values)\n",
    "print(data)"
   ]
  },
  {
   "cell_type": "code",
   "execution_count": 13,
   "metadata": {
    "collapsed": false
   },
   "outputs": [
    {
     "name": "stdout",
     "output_type": "stream",
     "text": [
      "   var1(t-3)  var1(t-2)  var1(t-1)  var1(t)\n",
      "3        0.0        1.0        2.0        3\n",
      "4        1.0        2.0        3.0        4\n",
      "5        2.0        3.0        4.0        5\n",
      "6        3.0        4.0        5.0        6\n",
      "7        4.0        5.0        6.0        7\n",
      "8        5.0        6.0        7.0        8\n",
      "9        6.0        7.0        8.0        9\n"
     ]
    }
   ],
   "source": [
    "data = series_to_supervised(values, 3)\n",
    "print(data)"
   ]
  },
  {
   "cell_type": "code",
   "execution_count": 14,
   "metadata": {
    "collapsed": false
   },
   "outputs": [
    {
     "name": "stdout",
     "output_type": "stream",
     "text": [
      "   var1(t-2)  var1(t-1)  var1(t)  var1(t+1)\n",
      "2        0.0        1.0        2        3.0\n",
      "3        1.0        2.0        3        4.0\n",
      "4        2.0        3.0        4        5.0\n",
      "5        3.0        4.0        5        6.0\n",
      "6        4.0        5.0        6        7.0\n",
      "7        5.0        6.0        7        8.0\n",
      "8        6.0        7.0        8        9.0\n"
     ]
    }
   ],
   "source": [
    "data = series_to_supervised(values, 2, 2)\n",
    "print(data)"
   ]
  },
  {
   "cell_type": "code",
   "execution_count": 24,
   "metadata": {
    "collapsed": false
   },
   "outputs": [
    {
     "name": "stdout",
     "output_type": "stream",
     "text": [
      "[[ 0 50]\n",
      " [ 1 51]\n",
      " [ 2 52]\n",
      " [ 3 53]\n",
      " [ 4 54]]\n",
      "   var1(t-1)  var2(t-1)  var1(t)  var2(t)\n",
      "1        0.0       50.0        1       51\n",
      "2        1.0       51.0        2       52\n",
      "3        2.0       52.0        3       53\n",
      "4        3.0       53.0        4       54\n",
      "5        4.0       54.0        5       55\n",
      "6        5.0       55.0        6       56\n",
      "7        6.0       56.0        7       57\n",
      "8        7.0       57.0        8       58\n",
      "9        8.0       58.0        9       59\n"
     ]
    }
   ],
   "source": [
    "raw = DataFrame()\n",
    "raw['obs1'] = [x for x in range(10)]\n",
    "raw['obs2'] = [x for x in range(50, 60)]\n",
    "values = raw.values\n",
    "print(values[0:5,])\n",
    "data = series_to_supervised(values)\n",
    "print(data)"
   ]
  },
  {
   "cell_type": "code",
   "execution_count": 27,
   "metadata": {
    "collapsed": false,
    "scrolled": true
   },
   "outputs": [
    {
     "name": "stdout",
     "output_type": "stream",
     "text": [
      "   var1(t-1)  var2(t-1)  var1(t)  var2(t)  var1(t+1)  var2(t+1)\n",
      "1        0.0       50.0        1       51        2.0       52.0\n",
      "2        1.0       51.0        2       52        3.0       53.0\n",
      "3        2.0       52.0        3       53        4.0       54.0\n",
      "4        3.0       53.0        4       54        5.0       55.0\n",
      "5        4.0       54.0        5       55        6.0       56.0\n",
      "6        5.0       55.0        6       56        7.0       57.0\n",
      "7        6.0       56.0        7       57        8.0       58.0\n",
      "8        7.0       57.0        8       58        9.0       59.0\n"
     ]
    }
   ],
   "source": [
    "data = series_to_supervised(values, 1, 2)\n",
    "print(data)"
   ]
  },
  {
   "cell_type": "code",
   "execution_count": null,
   "metadata": {
    "collapsed": true
   },
   "outputs": [],
   "source": []
  }
 ],
 "metadata": {
  "kernelspec": {
   "display_name": "Python 3",
   "language": "python",
   "name": "python3"
  },
  "language_info": {
   "codemirror_mode": {
    "name": "ipython",
    "version": 3
   },
   "file_extension": ".py",
   "mimetype": "text/x-python",
   "name": "python",
   "nbconvert_exporter": "python",
   "pygments_lexer": "ipython3",
   "version": "3.6.0"
  }
 },
 "nbformat": 4,
 "nbformat_minor": 2
}
