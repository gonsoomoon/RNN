{
 "cells": [
  {
   "cell_type": "markdown",
   "metadata": {},
   "source": [
    "<h1>Learn to Add Numbers with an Encoder-Decoder LSTM Recurrent Neural Network</h1><br>\n",
    "https://machinelearningmastery.com/learn-add-numbers-seq2seq-recurrent-neural-networks/"
   ]
  },
  {
   "cell_type": "code",
   "execution_count": 63,
   "metadata": {
    "collapsed": false
   },
   "outputs": [],
   "source": [
    "from random import seed\n",
    "from random import randint\n",
    "from numpy import array\n",
    "\n",
    "seed(1)\n",
    "# generate examples of random integers and their sum\n",
    "def random_sum_pairs(n_examples, n_numbers, largest, verbose=False):\n",
    "    X, y = list(), list()\n",
    "    for i in range(n_examples):\n",
    "        in_pattern = [randint(1,100) for _ in range(n_numbers)]\n",
    "        out_pattern = sum(in_pattern)\n",
    "        #print(in_pattern, out_pattern)\n",
    "        X.append(in_pattern)\n",
    "        y.append(out_pattern)\n",
    "    X, y = array(X), array(y)\n",
    "    if verbose:\n",
    "        print(\"Original X: \\n\", X)\n",
    "        print(\"Original y: \\n\", y)\n",
    "    X = X.astype('float') / float(largest * n_numbers)\n",
    "    y = y.astype('float') / float(largest * n_numbers)\n",
    "    \n",
    "    return X, y\n"
   ]
  },
  {
   "cell_type": "code",
   "execution_count": 64,
   "metadata": {
    "collapsed": false
   },
   "outputs": [
    {
     "name": "stdout",
     "output_type": "stream",
     "text": [
      "[[0.09  0.365]\n",
      " [0.49  0.045]\n",
      " [0.165 0.08 ]] \n",
      " [0.455 0.535 0.245]\n"
     ]
    }
   ],
   "source": [
    "n_examples = 3\n",
    "n_numbers = 2\n",
    "largest = 100\n",
    "X, y = random_sum_pairs(n_examples, n_numbers, largest)\n",
    "print(X, \"\\n\", y)"
   ]
  },
  {
   "cell_type": "code",
   "execution_count": 65,
   "metadata": {
    "collapsed": true
   },
   "outputs": [],
   "source": [
    "def invert(value, n_numbers, largest):\n",
    "    return round(value * float(largest * n_numbers))"
   ]
  },
  {
   "cell_type": "code",
   "execution_count": 66,
   "metadata": {
    "collapsed": false
   },
   "outputs": [
    {
     "data": {
      "text/plain": [
       "43"
      ]
     },
     "execution_count": 66,
     "metadata": {},
     "output_type": "execute_result"
    }
   ],
   "source": [
    "invert(0.21333333, n_numbers, largest)"
   ]
  },
  {
   "cell_type": "code",
   "execution_count": 80,
   "metadata": {
    "collapsed": false
   },
   "outputs": [],
   "source": [
    "from keras.models import Sequential\n",
    "from keras.layers import Dense\n",
    "from keras.layers import LSTM\n",
    "from math import sqrt\n",
    "from sklearn.metrics import mean_squared_error\n",
    "\n",
    "model = Sequential()\n",
    "#model.add(LSTM(6, input_shape=(n_numbers, 1)))\n",
    "model.add(LSTM(6, input_shape=(n_numbers, 1), return_sequences=True))\n",
    "#model.add(LSTM(6))\n",
    "model.add(Dense(1))\n",
    "model.compile(loss='mean_squared_error', optimizer='adam')\n"
   ]
  },
  {
   "cell_type": "code",
   "execution_count": 81,
   "metadata": {
    "collapsed": false
   },
   "outputs": [
    {
     "name": "stdout",
     "output_type": "stream",
     "text": [
      "_________________________________________________________________\n",
      "Layer (type)                 Output Shape              Param #   \n",
      "=================================================================\n",
      "lstm_13 (LSTM)               (None, 2, 6)              192       \n",
      "_________________________________________________________________\n",
      "dense_6 (Dense)              (None, 2, 1)              7         \n",
      "=================================================================\n",
      "Total params: 199\n",
      "Trainable params: 199\n",
      "Non-trainable params: 0\n",
      "_________________________________________________________________\n"
     ]
    }
   ],
   "source": [
    "model.summary()"
   ]
  },
  {
   "cell_type": "code",
   "execution_count": 68,
   "metadata": {
    "collapsed": false
   },
   "outputs": [
    {
     "name": "stdout",
     "output_type": "stream",
     "text": [
      "X: \n",
      " [[0.32  0.49 ]\n",
      " [0.29  0.305]\n",
      " [0.42  0.245]\n",
      " [0.135 0.065]\n",
      " [0.315 0.02 ]\n",
      " [0.25  0.28 ]\n",
      " [0.39  0.49 ]\n",
      " [0.495 0.005]\n",
      " [0.45  0.29 ]\n",
      " [0.175 0.465]]\n",
      "X shape:  (10, 2)\n",
      "X shape:  (10, 2, 1)\n",
      "Epoch 1/1\n",
      " - 2s - loss: 0.3384\n"
     ]
    }
   ],
   "source": [
    "n_epoch = 1\n",
    "n_batch = 1\n",
    "n_examples = 10\n",
    "n_numbers = 2\n",
    "largest = 100\n",
    "\n",
    "for _ in range(n_epoch):\n",
    "    X, y = random_sum_pairs(n_examples, n_numbers, largest)\n",
    "    print(\"X: \\n\", X)\n",
    "    print(\"X shape: \", X.shape)\n",
    "    X = X.reshape(n_examples, n_numbers,1)\n",
    "    print(\"X shape: \", X.shape)    \n",
    "    model.fit(X,y, epochs=1, batch_size=n_batch, verbose=2)"
   ]
  },
  {
   "cell_type": "code",
   "execution_count": 70,
   "metadata": {
    "collapsed": false
   },
   "outputs": [],
   "source": [
    "n_epoch = 50\n",
    "n_batch = 1\n",
    "n_examples = 100\n",
    "n_numbers = 2\n",
    "largest = 100\n",
    "\n",
    "for _ in range(n_epoch):\n",
    "    X, y = random_sum_pairs(n_examples, n_numbers, largest)\n",
    "    X = X.reshape(n_examples, n_numbers,1)\n",
    "    model.fit(X,y, epochs=1, batch_size=n_batch, verbose=0)"
   ]
  },
  {
   "cell_type": "code",
   "execution_count": 73,
   "metadata": {
    "collapsed": false,
    "scrolled": true
   },
   "outputs": [
    {
     "name": "stdout",
     "output_type": "stream",
     "text": [
      "RMSE: 1.044031\n",
      "Expected=192, Predicted=189 (err=3)\n",
      "Expected=197, Predicted=194 (err=3)\n",
      "Expected=72, Predicted=71 (err=1)\n",
      "Expected=47, Predicted=46 (err=1)\n",
      "Expected=144, Predicted=143 (err=1)\n",
      "Expected=147, Predicted=146 (err=1)\n",
      "Expected=87, Predicted=86 (err=1)\n",
      "Expected=145, Predicted=144 (err=1)\n",
      "Expected=85, Predicted=84 (err=1)\n",
      "Expected=49, Predicted=48 (err=1)\n",
      "Expected=137, Predicted=136 (err=1)\n",
      "Expected=22, Predicted=23 (err=-1)\n",
      "Expected=147, Predicted=146 (err=1)\n",
      "Expected=68, Predicted=68 (err=0)\n",
      "Expected=90, Predicted=89 (err=1)\n",
      "Expected=69, Predicted=68 (err=1)\n",
      "Expected=77, Predicted=76 (err=1)\n",
      "Expected=113, Predicted=112 (err=1)\n",
      "Expected=106, Predicted=105 (err=1)\n",
      "Expected=66, Predicted=65 (err=1)\n"
     ]
    }
   ],
   "source": [
    "X, y = random_sum_pairs(n_examples, n_numbers, largest)\n",
    "X = X.reshape(n_examples, n_numbers, 1)\n",
    "result = model.predict(X, batch_size=n_batch, verbose=0)\n",
    "expected = [invert(x, n_numbers, largest) for x in y]\n",
    "predicted = [invert(x, n_numbers, largest) for x in result[:,0]]\n",
    "rmse = sqrt(mean_squared_error(expected, predicted))\n",
    "print('RMSE: %f' % rmse)\n",
    "# show some examples\n",
    "for i in range(20):\n",
    "    error = expected[i] - predicted[i]\n",
    "    print('Expected=%d, Predicted=%d (err=%d)' \n",
    "         % (expected[i], predicted[i], error))"
   ]
  },
  {
   "cell_type": "code",
   "execution_count": null,
   "metadata": {
    "collapsed": true
   },
   "outputs": [],
   "source": []
  }
 ],
 "metadata": {
  "kernelspec": {
   "display_name": "Python 3",
   "language": "python",
   "name": "python3"
  },
  "language_info": {
   "codemirror_mode": {
    "name": "ipython",
    "version": 3
   },
   "file_extension": ".py",
   "mimetype": "text/x-python",
   "name": "python",
   "nbconvert_exporter": "python",
   "pygments_lexer": "ipython3",
   "version": "3.6.0"
  }
 },
 "nbformat": 4,
 "nbformat_minor": 2
}
